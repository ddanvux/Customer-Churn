{
  "nbformat": 4,
  "nbformat_minor": 0,
  "metadata": {
    "colab": {
      "name": "Predicting Customer Churn.ipynb",
      "provenance": [],
      "collapsed_sections": [],
      "authorship_tag": "ABX9TyPYy94MjmSAEmOTLv/9AmOM",
      "include_colab_link": true
    },
    "kernelspec": {
      "name": "python3",
      "display_name": "Python 3"
    },
    "widgets": {
      "application/vnd.jupyter.widget-state+json": {
        "64b889c05ab742b4b212f8877e312e78": {
          "model_module": "@jupyter-widgets/controls",
          "model_name": "VBoxModel",
          "state": {
            "_view_name": "VBoxView",
            "_dom_classes": [
              "widget-interact"
            ],
            "_model_name": "VBoxModel",
            "_view_module": "@jupyter-widgets/controls",
            "_model_module_version": "1.5.0",
            "_view_count": null,
            "_view_module_version": "1.5.0",
            "box_style": "",
            "layout": "IPY_MODEL_8f735d34e95d4b9fb4e48ea943066bec",
            "_model_module": "@jupyter-widgets/controls",
            "children": [
              "IPY_MODEL_5b41d101afa74591bbb9947b8965208b",
              "IPY_MODEL_135e36a789034ddb8a047cdfc1e93cb7"
            ]
          }
        },
        "8f735d34e95d4b9fb4e48ea943066bec": {
          "model_module": "@jupyter-widgets/base",
          "model_name": "LayoutModel",
          "state": {
            "_view_name": "LayoutView",
            "grid_template_rows": null,
            "right": null,
            "justify_content": null,
            "_view_module": "@jupyter-widgets/base",
            "overflow": null,
            "_model_module_version": "1.2.0",
            "_view_count": null,
            "flex_flow": null,
            "width": null,
            "min_width": null,
            "border": null,
            "align_items": null,
            "bottom": null,
            "_model_module": "@jupyter-widgets/base",
            "top": null,
            "grid_column": null,
            "overflow_y": null,
            "overflow_x": null,
            "grid_auto_flow": null,
            "grid_area": null,
            "grid_template_columns": null,
            "flex": null,
            "_model_name": "LayoutModel",
            "justify_items": null,
            "grid_row": null,
            "max_height": null,
            "align_content": null,
            "visibility": null,
            "align_self": null,
            "height": null,
            "min_height": null,
            "padding": null,
            "grid_auto_rows": null,
            "grid_gap": null,
            "max_width": null,
            "order": null,
            "_view_module_version": "1.2.0",
            "grid_template_areas": null,
            "object_position": null,
            "object_fit": null,
            "grid_auto_columns": null,
            "margin": null,
            "display": null,
            "left": null
          }
        },
        "5b41d101afa74591bbb9947b8965208b": {
          "model_module": "@jupyter-widgets/controls",
          "model_name": "DropdownModel",
          "state": {
            "_options_labels": [
              "gender",
              "SeniorCitizen",
              "Partner",
              "Dependents",
              "PhoneService",
              "MultipleLines",
              "InternetService",
              "OnlineSecurity",
              "OnlineBackup",
              "DeviceProtection",
              "TechSupport",
              "StreamingTV",
              "StreamingMovies",
              "Contract",
              "PaperlessBilling",
              "PaymentMethod",
              "Churn"
            ],
            "_view_name": "DropdownView",
            "style": "IPY_MODEL_26fd7d30f66c4f20ace58887accefd8c",
            "_dom_classes": [],
            "description": "a",
            "_model_name": "DropdownModel",
            "index": 0,
            "_view_module": "@jupyter-widgets/controls",
            "_model_module_version": "1.5.0",
            "_view_count": null,
            "disabled": false,
            "_view_module_version": "1.5.0",
            "description_tooltip": null,
            "_model_module": "@jupyter-widgets/controls",
            "layout": "IPY_MODEL_c7fd4c0aaf3040cd9cc7dcd4e55ce9b6"
          }
        },
        "135e36a789034ddb8a047cdfc1e93cb7": {
          "model_module": "@jupyter-widgets/output",
          "model_name": "OutputModel",
          "state": {
            "_view_name": "OutputView",
            "msg_id": "",
            "_dom_classes": [],
            "_model_name": "OutputModel",
            "outputs": [
              {
                "output_type": "stream",
                "metadata": {
                  "tags": []
                },
                "text": "Distribution of gender\n",
                "stream": "stdout"
              },
              {
                "output_type": "display_data",
                "metadata": {
                  "tags": []
                },
                "image/png": "iVBORw0KGgoAAAANSUhEUgAAAYIAAAESCAYAAADwnNLKAAAABHNCSVQICAgIfAhkiAAAAAlwSFlz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\n4FUSOx2GTN8AAAAASUVORK5CYII=\n",
                "text/plain": "<Figure size 432x288 with 1 Axes>"
              }
            ],
            "_view_module": "@jupyter-widgets/output",
            "_model_module_version": "1.0.0",
            "_view_count": null,
            "_view_module_version": "1.0.0",
            "layout": "IPY_MODEL_118ad7efaef042979a0c9e76b91f3979",
            "_model_module": "@jupyter-widgets/output"
          }
        },
        "26fd7d30f66c4f20ace58887accefd8c": {
          "model_module": "@jupyter-widgets/controls",
          "model_name": "DescriptionStyleModel",
          "state": {
            "_view_name": "StyleView",
            "_model_name": "DescriptionStyleModel",
            "description_width": "",
            "_view_module": "@jupyter-widgets/base",
            "_model_module_version": "1.5.0",
            "_view_count": null,
            "_view_module_version": "1.2.0",
            "_model_module": "@jupyter-widgets/controls"
          }
        },
        "c7fd4c0aaf3040cd9cc7dcd4e55ce9b6": {
          "model_module": "@jupyter-widgets/base",
          "model_name": "LayoutModel",
          "state": {
            "_view_name": "LayoutView",
            "grid_template_rows": null,
            "right": null,
            "justify_content": null,
            "_view_module": "@jupyter-widgets/base",
            "overflow": null,
            "_model_module_version": "1.2.0",
            "_view_count": null,
            "flex_flow": null,
            "width": null,
            "min_width": null,
            "border": null,
            "align_items": null,
            "bottom": null,
            "_model_module": "@jupyter-widgets/base",
            "top": null,
            "grid_column": null,
            "overflow_y": null,
            "overflow_x": null,
            "grid_auto_flow": null,
            "grid_area": null,
            "grid_template_columns": null,
            "flex": null,
            "_model_name": "LayoutModel",
            "justify_items": null,
            "grid_row": null,
            "max_height": null,
            "align_content": null,
            "visibility": null,
            "align_self": null,
            "height": null,
            "min_height": null,
            "padding": null,
            "grid_auto_rows": null,
            "grid_gap": null,
            "max_width": null,
            "order": null,
            "_view_module_version": "1.2.0",
            "grid_template_areas": null,
            "object_position": null,
            "object_fit": null,
            "grid_auto_columns": null,
            "margin": null,
            "display": null,
            "left": null
          }
        },
        "22404c18be144735828a7e5daf69eca0": {
          "model_module": "@jupyter-widgets/controls",
          "model_name": "VBoxModel",
          "state": {
            "_view_name": "VBoxView",
            "_dom_classes": [
              "widget-interact"
            ],
            "_model_name": "VBoxModel",
            "_view_module": "@jupyter-widgets/controls",
            "_model_module_version": "1.5.0",
            "_view_count": null,
            "_view_module_version": "1.5.0",
            "box_style": "",
            "layout": "IPY_MODEL_7dcc82c799de4133b63aaaf99a6d06c4",
            "_model_module": "@jupyter-widgets/controls",
            "children": [
              "IPY_MODEL_e9a93678eb6d46e3bb2f1cfc6d294ce9",
              "IPY_MODEL_c171303d9b614342b2977459e51b255b"
            ]
          }
        },
        "7dcc82c799de4133b63aaaf99a6d06c4": {
          "model_module": "@jupyter-widgets/base",
          "model_name": "LayoutModel",
          "state": {
            "_view_name": "LayoutView",
            "grid_template_rows": null,
            "right": null,
            "justify_content": null,
            "_view_module": "@jupyter-widgets/base",
            "overflow": null,
            "_model_module_version": "1.2.0",
            "_view_count": null,
            "flex_flow": null,
            "width": null,
            "min_width": null,
            "border": null,
            "align_items": null,
            "bottom": null,
            "_model_module": "@jupyter-widgets/base",
            "top": null,
            "grid_column": null,
            "overflow_y": null,
            "overflow_x": null,
            "grid_auto_flow": null,
            "grid_area": null,
            "grid_template_columns": null,
            "flex": null,
            "_model_name": "LayoutModel",
            "justify_items": null,
            "grid_row": null,
            "max_height": null,
            "align_content": null,
            "visibility": null,
            "align_self": null,
            "height": null,
            "min_height": null,
            "padding": null,
            "grid_auto_rows": null,
            "grid_gap": null,
            "max_width": null,
            "order": null,
            "_view_module_version": "1.2.0",
            "grid_template_areas": null,
            "object_position": null,
            "object_fit": null,
            "grid_auto_columns": null,
            "margin": null,
            "display": null,
            "left": null
          }
        },
        "e9a93678eb6d46e3bb2f1cfc6d294ce9": {
          "model_module": "@jupyter-widgets/controls",
          "model_name": "DropdownModel",
          "state": {
            "_options_labels": [
              "tenure",
              "MonthlyCharges",
              "TotalCharges"
            ],
            "_view_name": "DropdownView",
            "style": "IPY_MODEL_02f68e338acd475d83c30809d21b28c7",
            "_dom_classes": [],
            "description": "b",
            "_model_name": "DropdownModel",
            "index": 0,
            "_view_module": "@jupyter-widgets/controls",
            "_model_module_version": "1.5.0",
            "_view_count": null,
            "disabled": false,
            "_view_module_version": "1.5.0",
            "description_tooltip": null,
            "_model_module": "@jupyter-widgets/controls",
            "layout": "IPY_MODEL_011e968bab064f939231cadc3739fbce"
          }
        },
        "c171303d9b614342b2977459e51b255b": {
          "model_module": "@jupyter-widgets/output",
          "model_name": "OutputModel",
          "state": {
            "_view_name": "OutputView",
            "msg_id": "",
            "_dom_classes": [],
            "_model_name": "OutputModel",
            "outputs": [
              {
                "output_type": "stream",
                "metadata": {
                  "tags": []
                },
                "text": "Distribution of tenure\n",
                "stream": "stdout"
              },
              {
                "output_type": "display_data",
                "metadata": {
                  "tags": []
                },
                "image/png": "iVBORw0KGgoAAAANSUhEUgAAAYAAAAEGCAYAAABsLkJ6AAAABHNCSVQICAgIfAhkiAAAAAlwSFlz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\nPQAAAABJRU5ErkJggg==\n",
                "text/plain": "<Figure size 432x288 with 1 Axes>"
              }
            ],
            "_view_module": "@jupyter-widgets/output",
            "_model_module_version": "1.0.0",
            "_view_count": null,
            "_view_module_version": "1.0.0",
            "layout": "IPY_MODEL_4670ba05655a47d5b6d4b92944b0204a",
            "_model_module": "@jupyter-widgets/output"
          }
        },
        "02f68e338acd475d83c30809d21b28c7": {
          "model_module": "@jupyter-widgets/controls",
          "model_name": "DescriptionStyleModel",
          "state": {
            "_view_name": "StyleView",
            "_model_name": "DescriptionStyleModel",
            "description_width": "",
            "_view_module": "@jupyter-widgets/base",
            "_model_module_version": "1.5.0",
            "_view_count": null,
            "_view_module_version": "1.2.0",
            "_model_module": "@jupyter-widgets/controls"
          }
        },
        "011e968bab064f939231cadc3739fbce": {
          "model_module": "@jupyter-widgets/base",
          "model_name": "LayoutModel",
          "state": {
            "_view_name": "LayoutView",
            "grid_template_rows": null,
            "right": null,
            "justify_content": null,
            "_view_module": "@jupyter-widgets/base",
            "overflow": null,
            "_model_module_version": "1.2.0",
            "_view_count": null,
            "flex_flow": null,
            "width": null,
            "min_width": null,
            "border": null,
            "align_items": null,
            "bottom": null,
            "_model_module": "@jupyter-widgets/base",
            "top": null,
            "grid_column": null,
            "overflow_y": null,
            "overflow_x": null,
            "grid_auto_flow": null,
            "grid_area": null,
            "grid_template_columns": null,
            "flex": null,
            "_model_name": "LayoutModel",
            "justify_items": null,
            "grid_row": null,
            "max_height": null,
            "align_content": null,
            "visibility": null,
            "align_self": null,
            "height": null,
            "min_height": null,
            "padding": null,
            "grid_auto_rows": null,
            "grid_gap": null,
            "max_width": null,
            "order": null,
            "_view_module_version": "1.2.0",
            "grid_template_areas": null,
            "object_position": null,
            "object_fit": null,
            "grid_auto_columns": null,
            "margin": null,
            "display": null,
            "left": null
          }
        }
      }
    }
  },
  "cells": [
    {
      "cell_type": "markdown",
      "metadata": {
        "id": "view-in-github",
        "colab_type": "text"
      },
      "source": [
        "<a href=\"https://colab.research.google.com/github/JosueAfouda/Customer-Churn/blob/master/Predicting_Customer_Churn.ipynb\" target=\"_parent\"><img src=\"https://colab.research.google.com/assets/colab-badge.svg\" alt=\"Open In Colab\"/></a>"
      ]
    },
    {
      "cell_type": "markdown",
      "metadata": {
        "id": "YTIvMfghA0c9",
        "colab_type": "text"
      },
      "source": [
        "## **PREDICTING CUSTOMER CHURN IN A TELECOM'S COMPANY**\n",
        "\n",
        "*Author: Josué Afouda*"
      ]
    },
    {
      "cell_type": "markdown",
      "metadata": {
        "id": "MYg2WrRIF1Ax",
        "colab_type": "text"
      },
      "source": [
        "# Table of Contents\n",
        "**[Introduction](#M0)** \n",
        "\n",
        "**[Libraries](#M1)**   \n",
        "\n",
        "**[Data](#M2)** \n",
        "\n",
        "**[Exploratory Data Analysis](#M3)** \n",
        "\n",
        "**[Data Preprocessing](#M4)** \n",
        "\n",
        "**[Modelling](#M5)**\n",
        "\n",
        "- [Logistic Regression](#M51)  \n",
        "- [Random Forest](#M52)  \n",
        "- [Artificial Neural Network](#M53) \n",
        "- [Deep Learning](#M54)\n",
        "\n",
        "**[Conclusion](#M6)**"
      ]
    },
    {
      "cell_type": "markdown",
      "metadata": {
        "id": "hsQGXLVY8FP_",
        "colab_type": "text"
      },
      "source": [
        "## <font color=#3876C2> Introduction</font> <a name=\"M0\"></a>"
      ]
    },
    {
      "cell_type": "markdown",
      "metadata": {
        "id": "YOQUhh-O8JLs",
        "colab_type": "text"
      },
      "source": [
        "Customer churn is when a customer decides to stop using services, content, or products from a company. There are many examples and use cases of customer churn: \n",
        "* Cancelled a service that is under contract\n",
        "* Expiration of credit card       \n",
        "* Left a service not under contract       \n",
        "* Purchase from a different store          \n",
        "* Etc.          \n",
        "\n",
        "In competitive industries, where a business faces many competitors, the cost of new customer acquisition is even higher, and retaining existing customers becomes more important for such businesses. So, the company have to understand their customer's behavior better in order to retaining them. One way to do this is to build a machine learning model that can predict which customers are likely to churn and target and retain these specific customers that are at higher risk of churn. \n",
        "\n",
        "In this notebook, we will explore a dataset of a telecom's company and build a model to identify those customers with higher risk of churn for customer retention. We will use differents algorithms in order to compare performance of the models."
      ]
    },
    {
      "cell_type": "markdown",
      "metadata": {
        "id": "_1kw3QhEvwbW",
        "colab_type": "text"
      },
      "source": [
        "## <font color=#3876C2> Libraries</font> <a name=\"M1\"></a>"
      ]
    },
    {
      "cell_type": "code",
      "metadata": {
        "id": "Fuh59dzrvzvQ",
        "colab_type": "code",
        "outputId": "2eb03aee-d0c9-45b2-99a1-246cb7aa62f0",
        "colab": {
          "base_uri": "https://localhost:8080/",
          "height": 80
        }
      },
      "source": [
        "import pandas as pd\n",
        "import numpy as np\n",
        "import seaborn as sns\n",
        "import matplotlib.pyplot as plt\n",
        "%matplotlib inline\n",
        "import ipywidgets as widgets\n",
        "from ipywidgets import interact, interactive, fixed, interact_manual\n",
        "from sklearn.preprocessing import StandardScaler\n",
        "from sklearn.model_selection import train_test_split\n",
        "from sklearn.linear_model import LogisticRegression\n",
        "from sklearn.model_selection import GridSearchCV\n",
        "from sklearn.metrics import accuracy_score, precision_recall_fscore_support\n",
        "from sklearn.metrics import precision_score, recall_score, f1_score\n",
        "from sklearn.feature_selection import RFE\n",
        "from keras.models import Sequential\n",
        "from keras.layers import Dense\n",
        "from sklearn.metrics import roc_curve, auc"
      ],
      "execution_count": 0,
      "outputs": [
        {
          "output_type": "stream",
          "text": [
            "Using TensorFlow backend.\n"
          ],
          "name": "stderr"
        },
        {
          "output_type": "display_data",
          "data": {
            "text/html": [
              "<p style=\"color: red;\">\n",
              "The default version of TensorFlow in Colab will soon switch to TensorFlow 2.x.<br>\n",
              "We recommend you <a href=\"https://www.tensorflow.org/guide/migrate\" target=\"_blank\">upgrade</a> now \n",
              "or ensure your notebook will continue to use TensorFlow 1.x via the <code>%tensorflow_version 1.x</code> magic:\n",
              "<a href=\"https://colab.research.google.com/notebooks/tensorflow_version.ipynb\" target=\"_blank\">more info</a>.</p>\n"
            ],
            "text/plain": [
              "<IPython.core.display.HTML object>"
            ]
          },
          "metadata": {
            "tags": []
          }
        }
      ]
    },
    {
      "cell_type": "markdown",
      "metadata": {
        "id": "ARsHowiwBWu_",
        "colab_type": "text"
      },
      "source": [
        "## <font color=#3876C2> Data</font> <a name=\"M2\"></a>"
      ]
    },
    {
      "cell_type": "markdown",
      "metadata": {
        "id": "BSeZRgSkB8_w",
        "colab_type": "text"
      },
      "source": [
        "You can download the dataset from [Kaggle](https://www.kaggle.com/blastchar/telco-customer-churn/download) or from [GitHub](https://raw.githubusercontent.com/JosueAfouda/Customer-Churn/master/WA_Fn-UseC_-Telco-Customer-Churn.csv)\n",
        "  Let's read the dataset in a pandas dataframe."
      ]
    },
    {
      "cell_type": "code",
      "metadata": {
        "id": "AXWcDD3RR-Yw",
        "colab_type": "code",
        "outputId": "7329a134-0642-4e82-b547-f55bc66684f9",
        "colab": {
          "base_uri": "https://localhost:8080/",
          "height": 309
        }
      },
      "source": [
        "#Read the data\n",
        "df = pd.read_csv('https://raw.githubusercontent.com/JosueAfouda/Customer-Churn/master/WA_Fn-UseC_-Telco-Customer-Churn.csv')\n",
        "df.head()"
      ],
      "execution_count": 0,
      "outputs": [
        {
          "output_type": "execute_result",
          "data": {
            "text/html": [
              "<div>\n",
              "<style scoped>\n",
              "    .dataframe tbody tr th:only-of-type {\n",
              "        vertical-align: middle;\n",
              "    }\n",
              "\n",
              "    .dataframe tbody tr th {\n",
              "        vertical-align: top;\n",
              "    }\n",
              "\n",
              "    .dataframe thead th {\n",
              "        text-align: right;\n",
              "    }\n",
              "</style>\n",
              "<table border=\"1\" class=\"dataframe\">\n",
              "  <thead>\n",
              "    <tr style=\"text-align: right;\">\n",
              "      <th></th>\n",
              "      <th>customerID</th>\n",
              "      <th>gender</th>\n",
              "      <th>SeniorCitizen</th>\n",
              "      <th>Partner</th>\n",
              "      <th>Dependents</th>\n",
              "      <th>tenure</th>\n",
              "      <th>PhoneService</th>\n",
              "      <th>MultipleLines</th>\n",
              "      <th>InternetService</th>\n",
              "      <th>OnlineSecurity</th>\n",
              "      <th>OnlineBackup</th>\n",
              "      <th>DeviceProtection</th>\n",
              "      <th>TechSupport</th>\n",
              "      <th>StreamingTV</th>\n",
              "      <th>StreamingMovies</th>\n",
              "      <th>Contract</th>\n",
              "      <th>PaperlessBilling</th>\n",
              "      <th>PaymentMethod</th>\n",
              "      <th>MonthlyCharges</th>\n",
              "      <th>TotalCharges</th>\n",
              "      <th>Churn</th>\n",
              "    </tr>\n",
              "  </thead>\n",
              "  <tbody>\n",
              "    <tr>\n",
              "      <th>0</th>\n",
              "      <td>7590-VHVEG</td>\n",
              "      <td>Female</td>\n",
              "      <td>0</td>\n",
              "      <td>Yes</td>\n",
              "      <td>No</td>\n",
              "      <td>1</td>\n",
              "      <td>No</td>\n",
              "      <td>No phone service</td>\n",
              "      <td>DSL</td>\n",
              "      <td>No</td>\n",
              "      <td>Yes</td>\n",
              "      <td>No</td>\n",
              "      <td>No</td>\n",
              "      <td>No</td>\n",
              "      <td>No</td>\n",
              "      <td>Month-to-month</td>\n",
              "      <td>Yes</td>\n",
              "      <td>Electronic check</td>\n",
              "      <td>29.85</td>\n",
              "      <td>29.85</td>\n",
              "      <td>No</td>\n",
              "    </tr>\n",
              "    <tr>\n",
              "      <th>1</th>\n",
              "      <td>5575-GNVDE</td>\n",
              "      <td>Male</td>\n",
              "      <td>0</td>\n",
              "      <td>No</td>\n",
              "      <td>No</td>\n",
              "      <td>34</td>\n",
              "      <td>Yes</td>\n",
              "      <td>No</td>\n",
              "      <td>DSL</td>\n",
              "      <td>Yes</td>\n",
              "      <td>No</td>\n",
              "      <td>Yes</td>\n",
              "      <td>No</td>\n",
              "      <td>No</td>\n",
              "      <td>No</td>\n",
              "      <td>One year</td>\n",
              "      <td>No</td>\n",
              "      <td>Mailed check</td>\n",
              "      <td>56.95</td>\n",
              "      <td>1889.5</td>\n",
              "      <td>No</td>\n",
              "    </tr>\n",
              "    <tr>\n",
              "      <th>2</th>\n",
              "      <td>3668-QPYBK</td>\n",
              "      <td>Male</td>\n",
              "      <td>0</td>\n",
              "      <td>No</td>\n",
              "      <td>No</td>\n",
              "      <td>2</td>\n",
              "      <td>Yes</td>\n",
              "      <td>No</td>\n",
              "      <td>DSL</td>\n",
              "      <td>Yes</td>\n",
              "      <td>Yes</td>\n",
              "      <td>No</td>\n",
              "      <td>No</td>\n",
              "      <td>No</td>\n",
              "      <td>No</td>\n",
              "      <td>Month-to-month</td>\n",
              "      <td>Yes</td>\n",
              "      <td>Mailed check</td>\n",
              "      <td>53.85</td>\n",
              "      <td>108.15</td>\n",
              "      <td>Yes</td>\n",
              "    </tr>\n",
              "    <tr>\n",
              "      <th>3</th>\n",
              "      <td>7795-CFOCW</td>\n",
              "      <td>Male</td>\n",
              "      <td>0</td>\n",
              "      <td>No</td>\n",
              "      <td>No</td>\n",
              "      <td>45</td>\n",
              "      <td>No</td>\n",
              "      <td>No phone service</td>\n",
              "      <td>DSL</td>\n",
              "      <td>Yes</td>\n",
              "      <td>No</td>\n",
              "      <td>Yes</td>\n",
              "      <td>Yes</td>\n",
              "      <td>No</td>\n",
              "      <td>No</td>\n",
              "      <td>One year</td>\n",
              "      <td>No</td>\n",
              "      <td>Bank transfer (automatic)</td>\n",
              "      <td>42.30</td>\n",
              "      <td>1840.75</td>\n",
              "      <td>No</td>\n",
              "    </tr>\n",
              "    <tr>\n",
              "      <th>4</th>\n",
              "      <td>9237-HQITU</td>\n",
              "      <td>Female</td>\n",
              "      <td>0</td>\n",
              "      <td>No</td>\n",
              "      <td>No</td>\n",
              "      <td>2</td>\n",
              "      <td>Yes</td>\n",
              "      <td>No</td>\n",
              "      <td>Fiber optic</td>\n",
              "      <td>No</td>\n",
              "      <td>No</td>\n",
              "      <td>No</td>\n",
              "      <td>No</td>\n",
              "      <td>No</td>\n",
              "      <td>No</td>\n",
              "      <td>Month-to-month</td>\n",
              "      <td>Yes</td>\n",
              "      <td>Electronic check</td>\n",
              "      <td>70.70</td>\n",
              "      <td>151.65</td>\n",
              "      <td>Yes</td>\n",
              "    </tr>\n",
              "  </tbody>\n",
              "</table>\n",
              "</div>"
            ],
            "text/plain": [
              "   customerID  gender  SeniorCitizen  ... MonthlyCharges TotalCharges  Churn\n",
              "0  7590-VHVEG  Female              0  ...          29.85        29.85     No\n",
              "1  5575-GNVDE    Male              0  ...          56.95       1889.5     No\n",
              "2  3668-QPYBK    Male              0  ...          53.85       108.15    Yes\n",
              "3  7795-CFOCW    Male              0  ...          42.30      1840.75     No\n",
              "4  9237-HQITU  Female              0  ...          70.70       151.65    Yes\n",
              "\n",
              "[5 rows x 21 columns]"
            ]
          },
          "metadata": {
            "tags": []
          },
          "execution_count": 2
        }
      ]
    },
    {
      "cell_type": "code",
      "metadata": {
        "id": "ZA48-xotlFtC",
        "colab_type": "code",
        "outputId": "c6cc0259-da45-4932-e2c5-a3d50f8f1336",
        "colab": {
          "base_uri": "https://localhost:8080/",
          "height": 34
        }
      },
      "source": [
        "#Shape\n",
        "df.shape"
      ],
      "execution_count": 0,
      "outputs": [
        {
          "output_type": "execute_result",
          "data": {
            "text/plain": [
              "(7043, 21)"
            ]
          },
          "metadata": {
            "tags": []
          },
          "execution_count": 3
        }
      ]
    },
    {
      "cell_type": "code",
      "metadata": {
        "id": "nCNXDKYJkRk7",
        "colab_type": "code",
        "outputId": "6eb9d852-97ee-4e1a-d013-07f9cef89065",
        "colab": {
          "base_uri": "https://localhost:8080/",
          "height": 391
        }
      },
      "source": [
        "#Number of unique values for each column\n",
        "df.nunique()"
      ],
      "execution_count": 0,
      "outputs": [
        {
          "output_type": "execute_result",
          "data": {
            "text/plain": [
              "customerID          7043\n",
              "gender                 2\n",
              "SeniorCitizen          2\n",
              "Partner                2\n",
              "Dependents             2\n",
              "tenure                73\n",
              "PhoneService           2\n",
              "MultipleLines          3\n",
              "InternetService        3\n",
              "OnlineSecurity         3\n",
              "OnlineBackup           3\n",
              "DeviceProtection       3\n",
              "TechSupport            3\n",
              "StreamingTV            3\n",
              "StreamingMovies        3\n",
              "Contract               3\n",
              "PaperlessBilling       2\n",
              "PaymentMethod          4\n",
              "MonthlyCharges      1585\n",
              "TotalCharges        6531\n",
              "Churn                  2\n",
              "dtype: int64"
            ]
          },
          "metadata": {
            "tags": []
          },
          "execution_count": 4
        }
      ]
    },
    {
      "cell_type": "markdown",
      "metadata": {
        "id": "qK_XY3TQnhyP",
        "colab_type": "text"
      },
      "source": [
        "Since the 'customerID' has 7043 dinctinctes values, we are confident that each row of the dataset represent one customer."
      ]
    },
    {
      "cell_type": "code",
      "metadata": {
        "id": "USOe1pH0DJXo",
        "colab_type": "code",
        "outputId": "450ecf7f-ce75-4865-ae0f-4e854becddf9",
        "colab": {
          "base_uri": "https://localhost:8080/",
          "height": 34
        }
      },
      "source": [
        "print('The dataset contains', df.shape[0], 'rows (each row represent one customer) and', df.shape[1], 'columns')"
      ],
      "execution_count": 0,
      "outputs": [
        {
          "output_type": "stream",
          "text": [
            "The dataset contains 7043 rows (each row represent one customer) and 21 columns\n"
          ],
          "name": "stdout"
        }
      ]
    },
    {
      "cell_type": "code",
      "metadata": {
        "id": "qzkb65WKmoYp",
        "colab_type": "code",
        "outputId": "e8787c58-a77e-4b4f-ae67-e72778c4ed92",
        "colab": {
          "base_uri": "https://localhost:8080/",
          "height": 391
        }
      },
      "source": [
        "#Missing values\n",
        "df.isna().sum()"
      ],
      "execution_count": 0,
      "outputs": [
        {
          "output_type": "execute_result",
          "data": {
            "text/plain": [
              "customerID          0\n",
              "gender              0\n",
              "SeniorCitizen       0\n",
              "Partner             0\n",
              "Dependents          0\n",
              "tenure              0\n",
              "PhoneService        0\n",
              "MultipleLines       0\n",
              "InternetService     0\n",
              "OnlineSecurity      0\n",
              "OnlineBackup        0\n",
              "DeviceProtection    0\n",
              "TechSupport         0\n",
              "StreamingTV         0\n",
              "StreamingMovies     0\n",
              "Contract            0\n",
              "PaperlessBilling    0\n",
              "PaymentMethod       0\n",
              "MonthlyCharges      0\n",
              "TotalCharges        0\n",
              "Churn               0\n",
              "dtype: int64"
            ]
          },
          "metadata": {
            "tags": []
          },
          "execution_count": 6
        }
      ]
    },
    {
      "cell_type": "markdown",
      "metadata": {
        "id": "QQr85eMGmy_r",
        "colab_type": "text"
      },
      "source": [
        "We will deal with missing values later."
      ]
    },
    {
      "cell_type": "code",
      "metadata": {
        "id": "FKuKyQ1HkHCa",
        "colab_type": "code",
        "outputId": "ea7eadce-d110-4ad3-8059-502c8b6c9c9b",
        "colab": {
          "base_uri": "https://localhost:8080/",
          "height": 391
        }
      },
      "source": [
        "#Types of the columns\n",
        "df.dtypes"
      ],
      "execution_count": 0,
      "outputs": [
        {
          "output_type": "execute_result",
          "data": {
            "text/plain": [
              "customerID           object\n",
              "gender               object\n",
              "SeniorCitizen         int64\n",
              "Partner              object\n",
              "Dependents           object\n",
              "tenure                int64\n",
              "PhoneService         object\n",
              "MultipleLines        object\n",
              "InternetService      object\n",
              "OnlineSecurity       object\n",
              "OnlineBackup         object\n",
              "DeviceProtection     object\n",
              "TechSupport          object\n",
              "StreamingTV          object\n",
              "StreamingMovies      object\n",
              "Contract             object\n",
              "PaperlessBilling     object\n",
              "PaymentMethod        object\n",
              "MonthlyCharges      float64\n",
              "TotalCharges         object\n",
              "Churn                object\n",
              "dtype: object"
            ]
          },
          "metadata": {
            "tags": []
          },
          "execution_count": 7
        }
      ]
    },
    {
      "cell_type": "markdown",
      "metadata": {
        "id": "YMGpSo7wCmQv",
        "colab_type": "text"
      },
      "source": [
        "One feature is of particular interest to us: 'Churn', which can take in two values - yes and no - indicating whether or not the customer has churned.                \n",
        "Find the description of the variables [here](https://www.kaggle.com/blastchar/telco-customer-churn/data)\n",
        "\n",
        "Now, let's make an exploratory data anlysis in order to understand the data.   "
      ]
    },
    {
      "cell_type": "markdown",
      "metadata": {
        "id": "wUTl4YeZEREh",
        "colab_type": "text"
      },
      "source": [
        "## <font color=#3876C2> Exploratory Data Analysis (EDA)</font> <a name=\"M3\"></a>"
      ]
    },
    {
      "cell_type": "markdown",
      "metadata": {
        "id": "L0H14T5qGPLZ",
        "colab_type": "text"
      },
      "source": [
        "Le's begin our EDA by plot the distribution of each feature."
      ]
    },
    {
      "cell_type": "code",
      "metadata": {
        "id": "TXritRFBYj8O",
        "colab_type": "code",
        "colab": {}
      },
      "source": [
        "#Categorical features\n",
        "categorical_columns = df.nunique()[df.nunique() < 5].keys().tolist()\n",
        "\n",
        "#Function to view the distribution of a categorical variable\n",
        "def bar_plot(a):\n",
        "  df[a].value_counts(normalize=True).plot(kind='bar')\n",
        "  plt.ylabel('proportion')\n",
        "  plt.title(print('Distribution of', a))\n",
        "  return plt.show()"
      ],
      "execution_count": 0,
      "outputs": []
    },
    {
      "cell_type": "code",
      "metadata": {
        "id": "uJ3q6P8bhU2t",
        "colab_type": "code",
        "outputId": "42c85ed1-0f18-4472-ec5d-34af9ce045b6",
        "colab": {
          "base_uri": "https://localhost:8080/",
          "height": 357,
          "referenced_widgets": [
            "64b889c05ab742b4b212f8877e312e78",
            "8f735d34e95d4b9fb4e48ea943066bec",
            "5b41d101afa74591bbb9947b8965208b",
            "135e36a789034ddb8a047cdfc1e93cb7",
            "26fd7d30f66c4f20ace58887accefd8c",
            "c7fd4c0aaf3040cd9cc7dcd4e55ce9b6"
          ]
        }
      },
      "source": [
        "#Interact\n",
        "interact(bar_plot, a = categorical_columns)"
      ],
      "execution_count": 0,
      "outputs": [
        {
          "output_type": "display_data",
          "data": {
            "application/vnd.jupyter.widget-view+json": {
              "model_id": "64b889c05ab742b4b212f8877e312e78",
              "version_minor": 0,
              "version_major": 2
            },
            "text/plain": [
              "interactive(children=(Dropdown(description='a', options=('gender', 'SeniorCitizen', 'Partner', 'Dependents', '…"
            ]
          },
          "metadata": {
            "tags": []
          }
        },
        {
          "output_type": "execute_result",
          "data": {
            "text/plain": [
              "<function __main__.bar_plot>"
            ]
          },
          "metadata": {
            "tags": []
          },
          "execution_count": 9
        }
      ]
    },
    {
      "cell_type": "markdown",
      "metadata": {
        "id": "XzsE-vNvgMt7",
        "colab_type": "text"
      },
      "source": [
        "We can interact with the notebook and view the distribution of each categorical variable. For example:                   \n",
        "* There are more customers who dont't churned (more than 70%) than customers who churned (less than 30%).\n",
        "* the distribution of the data across different genders is roughly equally distributed. \n",
        "\n",
        "* The number of elderly customers less than 20%) is much lower than that of young customers (more than 80%).\n",
        "\n",
        "* *Partner* indicate whether the customer has a partner or not (Yes, No). Both categories are pratically the same proportion.\n",
        "\n",
        "Let's repeat the same process for numerical features."
      ]
    },
    {
      "cell_type": "code",
      "metadata": {
        "id": "n29msk7rh08p",
        "colab_type": "code",
        "colab": {}
      },
      "source": [
        "#Numerical features\n",
        "numerical_columns = ['tenure', 'MonthlyCharges', 'TotalCharges']\n",
        "\n",
        "#Function to view the distribution of a numerical variable\n",
        "def hist_plot(b):\n",
        "  sns.distplot(df[b])\n",
        "  plt.title(print('Distribution of', b))\n",
        "  return plt.show()\n",
        "\n",
        "#Convert 'TotalCharges' as type float\n",
        "df['TotalCharges'] = df['TotalCharges'].replace(' ',   \n",
        "                             np.nan).astype(float)"
      ],
      "execution_count": 0,
      "outputs": []
    },
    {
      "cell_type": "code",
      "metadata": {
        "id": "MDvZ-f48jSZW",
        "colab_type": "code",
        "outputId": "1705caa1-56b3-4101-cb07-d98567e5aeee",
        "colab": {
          "base_uri": "https://localhost:8080/",
          "height": 345,
          "referenced_widgets": [
            "22404c18be144735828a7e5daf69eca0",
            "7dcc82c799de4133b63aaaf99a6d06c4",
            "e9a93678eb6d46e3bb2f1cfc6d294ce9",
            "c171303d9b614342b2977459e51b255b",
            "02f68e338acd475d83c30809d21b28c7",
            "011e968bab064f939231cadc3739fbce"
          ]
        }
      },
      "source": [
        "#Interact\n",
        "interact(hist_plot, b = numerical_columns)"
      ],
      "execution_count": 0,
      "outputs": [
        {
          "output_type": "display_data",
          "data": {
            "application/vnd.jupyter.widget-view+json": {
              "model_id": "22404c18be144735828a7e5daf69eca0",
              "version_minor": 0,
              "version_major": 2
            },
            "text/plain": [
              "interactive(children=(Dropdown(description='b', options=('tenure', 'MonthlyCharges', 'TotalCharges'), value='t…"
            ]
          },
          "metadata": {
            "tags": []
          }
        },
        {
          "output_type": "execute_result",
          "data": {
            "text/plain": [
              "<function __main__.hist_plot>"
            ]
          },
          "metadata": {
            "tags": []
          },
          "execution_count": 11
        }
      ]
    },
    {
      "cell_type": "markdown",
      "metadata": {
        "id": "tatRnWxFqYLv",
        "colab_type": "text"
      },
      "source": [
        "We have a comprehension of the distribution of each feature in our dataset. Now, let's make some bivariate analysis."
      ]
    },
    {
      "cell_type": "code",
      "metadata": {
        "id": "JUGKu3XIq43o",
        "colab_type": "code",
        "outputId": "98a8a27d-356e-478c-bde7-200fbb06b5ca",
        "colab": {
          "base_uri": "https://localhost:8080/",
          "height": 295
        }
      },
      "source": [
        "#TotalCharges VS Churn\n",
        "sns.boxplot(x='Churn', y='TotalCharges', data=df, sym = \"\")\n",
        "plt.title('The total amount charged to the customer')\n",
        "plt.show()"
      ],
      "execution_count": 0,
      "outputs": [
        {
          "output_type": "display_data",
          "data": {
            "image/png": "[encoded data removed]",
            "text/plain": [
              "<Figure size 432x288 with 1 Axes>"
            ]
          },
          "metadata": {
            "tags": []
          }
        }
      ]
    },
    {
      "cell_type": "code",
      "metadata": {
        "id": "3kMtLc6tsGW0",
        "colab_type": "code",
        "outputId": "279ac1c2-41d7-4494-dd06-49f16caf31fa",
        "colab": {
          "base_uri": "https://localhost:8080/",
          "height": 295
        }
      },
      "source": [
        "#MonthlyCharges VS Churn\n",
        "sns.boxplot(x='Churn', y='MonthlyCharges', data=df, sym = \"\")\n",
        "plt.title('The amount charged to the customer monthly')\n",
        "plt.show()"
      ],
      "execution_count": 0,
      "outputs": [
        {
          "output_type": "display_data",
          "data": {
            "image/png": "[encoded data removed]",
            "text/plain": [
              "<Figure size 432x288 with 1 Axes>"
            ]
          },
          "metadata": {
            "tags": []
          }
        }
      ]
    },
    {
      "cell_type": "markdown",
      "metadata": {
        "id": "Z-KZ8ySXtzec",
        "colab_type": "text"
      },
      "source": [
        "The total amount charged to the customers who churned is smaller than the total amount charged to the customers who don't churned. But, the customers who churned are more charged montly than the customers who don't churned. This information  is very important for the company because the amont charged montly could be a important factor that determine whether a customer will churn or not."
      ]
    },
    {
      "cell_type": "code",
      "metadata": {
        "id": "qRKrKVzCthKt",
        "colab_type": "code",
        "outputId": "520c8d84-a861-4846-fef8-a989f1c6aa99",
        "colab": {
          "base_uri": "https://localhost:8080/",
          "height": 295
        }
      },
      "source": [
        "#MonthlyCharges VS Churn\n",
        "sns.boxplot(x='Churn', y='tenure', data=df, sym = \"\")\n",
        "plt.title('Number of months the customer has stayed with the company')\n",
        "plt.show()"
      ],
      "execution_count": 0,
      "outputs": [
        {
          "output_type": "display_data",
          "data": {
            "image/png": "[encoded data removed]",
            "text/plain": [
              "<Figure size 432x288 with 1 Axes>"
            ]
          },
          "metadata": {
            "tags": []
          }
        }
      ]
    },
    {
      "cell_type": "code",
      "metadata": {
        "id": "bxRRhMDnvgCH",
        "colab_type": "code",
        "outputId": "f585feb2-b8b5-4d58-a24b-68885be70c2f",
        "colab": {
          "base_uri": "https://localhost:8080/",
          "height": 296
        }
      },
      "source": [
        "sns.boxplot(x = 'Churn',\n",
        "            y = 'MonthlyCharges',\n",
        "            data = df,\n",
        "            sym = \"\",\n",
        "            hue = \"SeniorCitizen\")"
      ],
      "execution_count": 0,
      "outputs": [
        {
          "output_type": "execute_result",
          "data": {
            "text/plain": [
              "<matplotlib.axes._subplots.AxesSubplot at 0x7f0395db3278>"
            ]
          },
          "metadata": {
            "tags": []
          },
          "execution_count": 15
        },
        {
          "output_type": "display_data",
          "data": {
            "image/png": "[encoded data removed]",
            "text/plain": [
              "<Figure size 432x288 with 1 Axes>"
            ]
          },
          "metadata": {
            "tags": []
          }
        }
      ]
    },
    {
      "cell_type": "markdown",
      "metadata": {
        "id": "xkOnqaaeyTOl",
        "colab_type": "text"
      },
      "source": [
        "It seems that the elderly are billed more monthly than the young. Despite this, they remain more loyal to the company than young people."
      ]
    },
    {
      "cell_type": "code",
      "metadata": {
        "id": "uE_QTiBAw3BM",
        "colab_type": "code",
        "outputId": "ef92ab15-706e-4efa-b22b-781b58e3e3f1",
        "colab": {
          "base_uri": "https://localhost:8080/",
          "height": 296
        }
      },
      "source": [
        "sns.boxplot(x = 'Churn',\n",
        "            y = 'MonthlyCharges',\n",
        "            data = df,\n",
        "            sym = \"\",\n",
        "            hue = \"Dependents\")"
      ],
      "execution_count": 0,
      "outputs": [
        {
          "output_type": "execute_result",
          "data": {
            "text/plain": [
              "<matplotlib.axes._subplots.AxesSubplot at 0x7f0395d4c0b8>"
            ]
          },
          "metadata": {
            "tags": []
          },
          "execution_count": 16
        },
        {
          "output_type": "display_data",
          "data": {
            "image/png": "[encoded data removed]",
            "text/plain": [
              "<Figure size 432x288 with 1 Axes>"
            ]
          },
          "metadata": {
            "tags": []
          }
        }
      ]
    },
    {
      "cell_type": "markdown",
      "metadata": {
        "id": "3OY0H43lzOe-",
        "colab_type": "text"
      },
      "source": [
        "There is many other analyses that we can make. Let's jump into statistic resume."
      ]
    },
    {
      "cell_type": "code",
      "metadata": {
        "id": "0YjMuK0Jyrdc",
        "colab_type": "code",
        "outputId": "d17e2175-de91-4071-bb01-2a652ab35be7",
        "colab": {
          "base_uri": "https://localhost:8080/",
          "height": 297
        }
      },
      "source": [
        "df.describe()"
      ],
      "execution_count": 0,
      "outputs": [
        {
          "output_type": "execute_result",
          "data": {
            "text/html": [
              "<div>\n",
              "<style scoped>\n",
              "    .dataframe tbody tr th:only-of-type {\n",
              "        vertical-align: middle;\n",
              "    }\n",
              "\n",
              "    .dataframe tbody tr th {\n",
              "        vertical-align: top;\n",
              "    }\n",
              "\n",
              "    .dataframe thead th {\n",
              "        text-align: right;\n",
              "    }\n",
              "</style>\n",
              "<table border=\"1\" class=\"dataframe\">\n",
              "  <thead>\n",
              "    <tr style=\"text-align: right;\">\n",
              "      <th></th>\n",
              "      <th>SeniorCitizen</th>\n",
              "      <th>tenure</th>\n",
              "      <th>MonthlyCharges</th>\n",
              "      <th>TotalCharges</th>\n",
              "    </tr>\n",
              "  </thead>\n",
              "  <tbody>\n",
              "    <tr>\n",
              "      <th>count</th>\n",
              "      <td>7043.000000</td>\n",
              "      <td>7043.000000</td>\n",
              "      <td>7043.000000</td>\n",
              "      <td>7032.000000</td>\n",
              "    </tr>\n",
              "    <tr>\n",
              "      <th>mean</th>\n",
              "      <td>0.162147</td>\n",
              "      <td>32.371149</td>\n",
              "      <td>64.761692</td>\n",
              "      <td>2283.300441</td>\n",
              "    </tr>\n",
              "    <tr>\n",
              "      <th>std</th>\n",
              "      <td>0.368612</td>\n",
              "      <td>24.559481</td>\n",
              "      <td>30.090047</td>\n",
              "      <td>2266.771362</td>\n",
              "    </tr>\n",
              "    <tr>\n",
              "      <th>min</th>\n",
              "      <td>0.000000</td>\n",
              "      <td>0.000000</td>\n",
              "      <td>18.250000</td>\n",
              "      <td>18.800000</td>\n",
              "    </tr>\n",
              "    <tr>\n",
              "      <th>25%</th>\n",
              "      <td>0.000000</td>\n",
              "      <td>9.000000</td>\n",
              "      <td>35.500000</td>\n",
              "      <td>401.450000</td>\n",
              "    </tr>\n",
              "    <tr>\n",
              "      <th>50%</th>\n",
              "      <td>0.000000</td>\n",
              "      <td>29.000000</td>\n",
              "      <td>70.350000</td>\n",
              "      <td>1397.475000</td>\n",
              "    </tr>\n",
              "    <tr>\n",
              "      <th>75%</th>\n",
              "      <td>0.000000</td>\n",
              "      <td>55.000000</td>\n",
              "      <td>89.850000</td>\n",
              "      <td>3794.737500</td>\n",
              "    </tr>\n",
              "    <tr>\n",
              "      <th>max</th>\n",
              "      <td>1.000000</td>\n",
              "      <td>72.000000</td>\n",
              "      <td>118.750000</td>\n",
              "      <td>8684.800000</td>\n",
              "    </tr>\n",
              "  </tbody>\n",
              "</table>\n",
              "</div>"
            ],
            "text/plain": [
              "       SeniorCitizen       tenure  MonthlyCharges  TotalCharges\n",
              "count    7043.000000  7043.000000     7043.000000   7032.000000\n",
              "mean        0.162147    32.371149       64.761692   2283.300441\n",
              "std         0.368612    24.559481       30.090047   2266.771362\n",
              "min         0.000000     0.000000       18.250000     18.800000\n",
              "25%         0.000000     9.000000       35.500000    401.450000\n",
              "50%         0.000000    29.000000       70.350000   1397.475000\n",
              "75%         0.000000    55.000000       89.850000   3794.737500\n",
              "max         1.000000    72.000000      118.750000   8684.800000"
            ]
          },
          "metadata": {
            "tags": []
          },
          "execution_count": 17
        }
      ]
    },
    {
      "cell_type": "markdown",
      "metadata": {
        "id": "gF-uKMA_0ShI",
        "colab_type": "text"
      },
      "source": [
        "As you can see from the summary statistics, the three tenure, MonthlyCharges, and TotalCharges continuous variables all have different scales. The tenure variable, ranges from 1 to 72, while the TotalCharges variable , ranges from 18.8 to 8684.8. Many of Machine and Deep Learning models perform better with scaled or normalized features.                  \n",
        "We will deal with scaling data in the data preparation section."
      ]
    },
    {
      "cell_type": "markdown",
      "metadata": {
        "id": "zF3j22Fx1w_i",
        "colab_type": "text"
      },
      "source": [
        "## <font color=#3876C2> Data Preprocessing</font> <a name=\"M4\"></a>"
      ]
    },
    {
      "cell_type": "markdown",
      "metadata": {
        "id": "yVjXfgHH2mcd",
        "colab_type": "text"
      },
      "source": [
        "The first thing that we will do in order to prepare or data for modelling is encoding categorical variable."
      ]
    },
    {
      "cell_type": "code",
      "metadata": {
        "id": "vWiaSGiozo6E",
        "colab_type": "code",
        "colab": {}
      },
      "source": [
        "#Encoding Binary variable\n",
        "df['gender'] = df['gender'].apply(lambda row: 1 if row == 'Female' else 0)\n",
        "\n",
        "binary_columns = df.drop('gender', axis=1).nunique()[df.drop('gender', axis=1).nunique() < 3].keys().tolist()\n",
        "for column in binary_columns:\n",
        "  df[column] = df[column].apply(lambda row: 1 if row == 'Yes' else 0)\n",
        "\n",
        "#Encoding the remaining categorical variables\n",
        "remaining_cat_vars = df[categorical_columns].nunique()[df[categorical_columns].nunique() > 2].keys().tolist()\n",
        "remaining_cat_vars_dummies = pd.get_dummies(data = df[remaining_cat_vars], columns = remaining_cat_vars, drop_first=True)\n",
        "\n",
        "#New dataframe\n",
        "data = pd.concat([df['gender'], df[binary_columns], remaining_cat_vars_dummies, df[numerical_columns]], axis=1)"
      ],
      "execution_count": 0,
      "outputs": []
    },
    {
      "cell_type": "code",
      "metadata": {
        "id": "rbEsM3qf55K2",
        "colab_type": "code",
        "outputId": "7bfe3346-7bcb-456f-8166-1b95b279002f",
        "colab": {
          "base_uri": "https://localhost:8080/",
          "height": 258
        }
      },
      "source": [
        "#Print data\n",
        "data.head()"
      ],
      "execution_count": 0,
      "outputs": [
        {
          "output_type": "execute_result",
          "data": {
            "text/html": [
              "<div>\n",
              "<style scoped>\n",
              "    .dataframe tbody tr th:only-of-type {\n",
              "        vertical-align: middle;\n",
              "    }\n",
              "\n",
              "    .dataframe tbody tr th {\n",
              "        vertical-align: top;\n",
              "    }\n",
              "\n",
              "    .dataframe thead th {\n",
              "        text-align: right;\n",
              "    }\n",
              "</style>\n",
              "<table border=\"1\" class=\"dataframe\">\n",
              "  <thead>\n",
              "    <tr style=\"text-align: right;\">\n",
              "      <th></th>\n",
              "      <th>gender</th>\n",
              "      <th>SeniorCitizen</th>\n",
              "      <th>Partner</th>\n",
              "      <th>Dependents</th>\n",
              "      <th>PhoneService</th>\n",
              "      <th>PaperlessBilling</th>\n",
              "      <th>Churn</th>\n",
              "      <th>MultipleLines_No phone service</th>\n",
              "      <th>MultipleLines_Yes</th>\n",
              "      <th>InternetService_Fiber optic</th>\n",
              "      <th>InternetService_No</th>\n",
              "      <th>OnlineSecurity_No internet service</th>\n",
              "      <th>OnlineSecurity_Yes</th>\n",
              "      <th>OnlineBackup_No internet service</th>\n",
              "      <th>OnlineBackup_Yes</th>\n",
              "      <th>DeviceProtection_No internet service</th>\n",
              "      <th>DeviceProtection_Yes</th>\n",
              "      <th>TechSupport_No internet service</th>\n",
              "      <th>TechSupport_Yes</th>\n",
              "      <th>StreamingTV_No internet service</th>\n",
              "      <th>StreamingTV_Yes</th>\n",
              "      <th>StreamingMovies_No internet service</th>\n",
              "      <th>StreamingMovies_Yes</th>\n",
              "      <th>Contract_One year</th>\n",
              "      <th>Contract_Two year</th>\n",
              "      <th>PaymentMethod_Credit card (automatic)</th>\n",
              "      <th>PaymentMethod_Electronic check</th>\n",
              "      <th>PaymentMethod_Mailed check</th>\n",
              "      <th>tenure</th>\n",
              "      <th>MonthlyCharges</th>\n",
              "      <th>TotalCharges</th>\n",
              "    </tr>\n",
              "  </thead>\n",
              "  <tbody>\n",
              "    <tr>\n",
              "      <th>0</th>\n",
              "      <td>1</td>\n",
              "      <td>0</td>\n",
              "      <td>1</td>\n",
              "      <td>0</td>\n",
              "      <td>0</td>\n",
              "      <td>1</td>\n",
              "      <td>0</td>\n",
              "      <td>1</td>\n",
              "      <td>0</td>\n",
              "      <td>0</td>\n",
              "      <td>0</td>\n",
              "      <td>0</td>\n",
              "      <td>0</td>\n",
              "      <td>0</td>\n",
              "      <td>1</td>\n",
              "      <td>0</td>\n",
              "      <td>0</td>\n",
              "      <td>0</td>\n",
              "      <td>0</td>\n",
              "      <td>0</td>\n",
              "      <td>0</td>\n",
              "      <td>0</td>\n",
              "      <td>0</td>\n",
              "      <td>0</td>\n",
              "      <td>0</td>\n",
              "      <td>0</td>\n",
              "      <td>1</td>\n",
              "      <td>0</td>\n",
              "      <td>1</td>\n",
              "      <td>29.85</td>\n",
              "      <td>29.85</td>\n",
              "    </tr>\n",
              "    <tr>\n",
              "      <th>1</th>\n",
              "      <td>0</td>\n",
              "      <td>0</td>\n",
              "      <td>0</td>\n",
              "      <td>0</td>\n",
              "      <td>1</td>\n",
              "      <td>0</td>\n",
              "      <td>0</td>\n",
              "      <td>0</td>\n",
              "      <td>0</td>\n",
              "      <td>0</td>\n",
              "      <td>0</td>\n",
              "      <td>0</td>\n",
              "      <td>1</td>\n",
              "      <td>0</td>\n",
              "      <td>0</td>\n",
              "      <td>0</td>\n",
              "      <td>1</td>\n",
              "      <td>0</td>\n",
              "      <td>0</td>\n",
              "      <td>0</td>\n",
              "      <td>0</td>\n",
              "      <td>0</td>\n",
              "      <td>0</td>\n",
              "      <td>1</td>\n",
              "      <td>0</td>\n",
              "      <td>0</td>\n",
              "      <td>0</td>\n",
              "      <td>1</td>\n",
              "      <td>34</td>\n",
              "      <td>56.95</td>\n",
              "      <td>1889.50</td>\n",
              "    </tr>\n",
              "    <tr>\n",
              "      <th>2</th>\n",
              "      <td>0</td>\n",
              "      <td>0</td>\n",
              "      <td>0</td>\n",
              "      <td>0</td>\n",
              "      <td>1</td>\n",
              "      <td>1</td>\n",
              "      <td>1</td>\n",
              "      <td>0</td>\n",
              "      <td>0</td>\n",
              "      <td>0</td>\n",
              "      <td>0</td>\n",
              "      <td>0</td>\n",
              "      <td>1</td>\n",
              "      <td>0</td>\n",
              "      <td>1</td>\n",
              "      <td>0</td>\n",
              "      <td>0</td>\n",
              "      <td>0</td>\n",
              "      <td>0</td>\n",
              "      <td>0</td>\n",
              "      <td>0</td>\n",
              "      <td>0</td>\n",
              "      <td>0</td>\n",
              "      <td>0</td>\n",
              "      <td>0</td>\n",
              "      <td>0</td>\n",
              "      <td>0</td>\n",
              "      <td>1</td>\n",
              "      <td>2</td>\n",
              "      <td>53.85</td>\n",
              "      <td>108.15</td>\n",
              "    </tr>\n",
              "    <tr>\n",
              "      <th>3</th>\n",
              "      <td>0</td>\n",
              "      <td>0</td>\n",
              "      <td>0</td>\n",
              "      <td>0</td>\n",
              "      <td>0</td>\n",
              "      <td>0</td>\n",
              "      <td>0</td>\n",
              "      <td>1</td>\n",
              "      <td>0</td>\n",
              "      <td>0</td>\n",
              "      <td>0</td>\n",
              "      <td>0</td>\n",
              "      <td>1</td>\n",
              "      <td>0</td>\n",
              "      <td>0</td>\n",
              "      <td>0</td>\n",
              "      <td>1</td>\n",
              "      <td>0</td>\n",
              "      <td>1</td>\n",
              "      <td>0</td>\n",
              "      <td>0</td>\n",
              "      <td>0</td>\n",
              "      <td>0</td>\n",
              "      <td>1</td>\n",
              "      <td>0</td>\n",
              "      <td>0</td>\n",
              "      <td>0</td>\n",
              "      <td>0</td>\n",
              "      <td>45</td>\n",
              "      <td>42.30</td>\n",
              "      <td>1840.75</td>\n",
              "    </tr>\n",
              "    <tr>\n",
              "      <th>4</th>\n",
              "      <td>1</td>\n",
              "      <td>0</td>\n",
              "      <td>0</td>\n",
              "      <td>0</td>\n",
              "      <td>1</td>\n",
              "      <td>1</td>\n",
              "      <td>1</td>\n",
              "      <td>0</td>\n",
              "      <td>0</td>\n",
              "      <td>1</td>\n",
              "      <td>0</td>\n",
              "      <td>0</td>\n",
              "      <td>0</td>\n",
              "      <td>0</td>\n",
              "      <td>0</td>\n",
              "      <td>0</td>\n",
              "      <td>0</td>\n",
              "      <td>0</td>\n",
              "      <td>0</td>\n",
              "      <td>0</td>\n",
              "      <td>0</td>\n",
              "      <td>0</td>\n",
              "      <td>0</td>\n",
              "      <td>0</td>\n",
              "      <td>0</td>\n",
              "      <td>0</td>\n",
              "      <td>1</td>\n",
              "      <td>0</td>\n",
              "      <td>2</td>\n",
              "      <td>70.70</td>\n",
              "      <td>151.65</td>\n",
              "    </tr>\n",
              "  </tbody>\n",
              "</table>\n",
              "</div>"
            ],
            "text/plain": [
              "   gender  SeniorCitizen  Partner  ...  tenure  MonthlyCharges  TotalCharges\n",
              "0       1              0        1  ...       1           29.85         29.85\n",
              "1       0              0        0  ...      34           56.95       1889.50\n",
              "2       0              0        0  ...       2           53.85        108.15\n",
              "3       0              0        0  ...      45           42.30       1840.75\n",
              "4       1              0        0  ...       2           70.70        151.65\n",
              "\n",
              "[5 rows x 31 columns]"
            ]
          },
          "metadata": {
            "tags": []
          },
          "execution_count": 19
        }
      ]
    },
    {
      "cell_type": "code",
      "metadata": {
        "id": "h3MI0Nt8-apu",
        "colab_type": "code",
        "outputId": "f2954fa2-4cab-4f70-e82e-3a301914b2c3",
        "colab": {
          "base_uri": "https://localhost:8080/",
          "height": 34
        }
      },
      "source": [
        "data.shape"
      ],
      "execution_count": 0,
      "outputs": [
        {
          "output_type": "execute_result",
          "data": {
            "text/plain": [
              "(7043, 31)"
            ]
          },
          "metadata": {
            "tags": []
          },
          "execution_count": 20
        }
      ]
    },
    {
      "cell_type": "markdown",
      "metadata": {
        "id": "JnqfZ8UHCOen",
        "colab_type": "text"
      },
      "source": [
        "Great Encoding! :)\n",
        "\n",
        "Now, let's scale the *tenure*, *MonthlyCharges*, and *TotalCharges* variables."
      ]
    },
    {
      "cell_type": "code",
      "metadata": {
        "id": "Vfkp0ncs_vbx",
        "colab_type": "code",
        "outputId": "ec1ba2e7-5744-4d98-af0e-dfa3aed305d6",
        "colab": {
          "base_uri": "https://localhost:8080/",
          "height": 258
        }
      },
      "source": [
        "#Scaling data\n",
        "sc = StandardScaler()\n",
        "scaled_numerical = sc.fit_transform(data[numerical_columns])\n",
        "\n",
        "# Build a DataFrame from scaled_numerical\n",
        "scaled_numerical = pd.DataFrame(scaled_numerical, columns=numerical_columns)\n",
        "\n",
        "#Drop old numerical features from data\n",
        "data.drop(numerical_columns, axis=1, inplace=True)\n",
        "\n",
        "#Concat an print\n",
        "data = pd.concat([data, scaled_numerical], axis=1)\n",
        "data.head()"
      ],
      "execution_count": 0,
      "outputs": [
        {
          "output_type": "execute_result",
          "data": {
            "text/html": [
              "<div>\n",
              "<style scoped>\n",
              "    .dataframe tbody tr th:only-of-type {\n",
              "        vertical-align: middle;\n",
              "    }\n",
              "\n",
              "    .dataframe tbody tr th {\n",
              "        vertical-align: top;\n",
              "    }\n",
              "\n",
              "    .dataframe thead th {\n",
              "        text-align: right;\n",
              "    }\n",
              "</style>\n",
              "<table border=\"1\" class=\"dataframe\">\n",
              "  <thead>\n",
              "    <tr style=\"text-align: right;\">\n",
              "      <th></th>\n",
              "      <th>gender</th>\n",
              "      <th>SeniorCitizen</th>\n",
              "      <th>Partner</th>\n",
              "      <th>Dependents</th>\n",
              "      <th>PhoneService</th>\n",
              "      <th>PaperlessBilling</th>\n",
              "      <th>Churn</th>\n",
              "      <th>MultipleLines_No phone service</th>\n",
              "      <th>MultipleLines_Yes</th>\n",
              "      <th>InternetService_Fiber optic</th>\n",
              "      <th>InternetService_No</th>\n",
              "      <th>OnlineSecurity_No internet service</th>\n",
              "      <th>OnlineSecurity_Yes</th>\n",
              "      <th>OnlineBackup_No internet service</th>\n",
              "      <th>OnlineBackup_Yes</th>\n",
              "      <th>DeviceProtection_No internet service</th>\n",
              "      <th>DeviceProtection_Yes</th>\n",
              "      <th>TechSupport_No internet service</th>\n",
              "      <th>TechSupport_Yes</th>\n",
              "      <th>StreamingTV_No internet service</th>\n",
              "      <th>StreamingTV_Yes</th>\n",
              "      <th>StreamingMovies_No internet service</th>\n",
              "      <th>StreamingMovies_Yes</th>\n",
              "      <th>Contract_One year</th>\n",
              "      <th>Contract_Two year</th>\n",
              "      <th>PaymentMethod_Credit card (automatic)</th>\n",
              "      <th>PaymentMethod_Electronic check</th>\n",
              "      <th>PaymentMethod_Mailed check</th>\n",
              "      <th>tenure</th>\n",
              "      <th>MonthlyCharges</th>\n",
              "      <th>TotalCharges</th>\n",
              "    </tr>\n",
              "  </thead>\n",
              "  <tbody>\n",
              "    <tr>\n",
              "      <th>0</th>\n",
              "      <td>1</td>\n",
              "      <td>0</td>\n",
              "      <td>1</td>\n",
              "      <td>0</td>\n",
              "      <td>0</td>\n",
              "      <td>1</td>\n",
              "      <td>0</td>\n",
              "      <td>1</td>\n",
              "      <td>0</td>\n",
              "      <td>0</td>\n",
              "      <td>0</td>\n",
              "      <td>0</td>\n",
              "      <td>0</td>\n",
              "      <td>0</td>\n",
              "      <td>1</td>\n",
              "      <td>0</td>\n",
              "      <td>0</td>\n",
              "      <td>0</td>\n",
              "      <td>0</td>\n",
              "      <td>0</td>\n",
              "      <td>0</td>\n",
              "      <td>0</td>\n",
              "      <td>0</td>\n",
              "      <td>0</td>\n",
              "      <td>0</td>\n",
              "      <td>0</td>\n",
              "      <td>1</td>\n",
              "      <td>0</td>\n",
              "      <td>-1.277445</td>\n",
              "      <td>-1.160323</td>\n",
              "      <td>-0.994194</td>\n",
              "    </tr>\n",
              "    <tr>\n",
              "      <th>1</th>\n",
              "      <td>0</td>\n",
              "      <td>0</td>\n",
              "      <td>0</td>\n",
              "      <td>0</td>\n",
              "      <td>1</td>\n",
              "      <td>0</td>\n",
              "      <td>0</td>\n",
              "      <td>0</td>\n",
              "      <td>0</td>\n",
              "      <td>0</td>\n",
              "      <td>0</td>\n",
              "      <td>0</td>\n",
              "      <td>1</td>\n",
              "      <td>0</td>\n",
              "      <td>0</td>\n",
              "      <td>0</td>\n",
              "      <td>1</td>\n",
              "      <td>0</td>\n",
              "      <td>0</td>\n",
              "      <td>0</td>\n",
              "      <td>0</td>\n",
              "      <td>0</td>\n",
              "      <td>0</td>\n",
              "      <td>1</td>\n",
              "      <td>0</td>\n",
              "      <td>0</td>\n",
              "      <td>0</td>\n",
              "      <td>1</td>\n",
              "      <td>0.066327</td>\n",
              "      <td>-0.259629</td>\n",
              "      <td>-0.173740</td>\n",
              "    </tr>\n",
              "    <tr>\n",
              "      <th>2</th>\n",
              "      <td>0</td>\n",
              "      <td>0</td>\n",
              "      <td>0</td>\n",
              "      <td>0</td>\n",
              "      <td>1</td>\n",
              "      <td>1</td>\n",
              "      <td>1</td>\n",
              "      <td>0</td>\n",
              "      <td>0</td>\n",
              "      <td>0</td>\n",
              "      <td>0</td>\n",
              "      <td>0</td>\n",
              "      <td>1</td>\n",
              "      <td>0</td>\n",
              "      <td>1</td>\n",
              "      <td>0</td>\n",
              "      <td>0</td>\n",
              "      <td>0</td>\n",
              "      <td>0</td>\n",
              "      <td>0</td>\n",
              "      <td>0</td>\n",
              "      <td>0</td>\n",
              "      <td>0</td>\n",
              "      <td>0</td>\n",
              "      <td>0</td>\n",
              "      <td>0</td>\n",
              "      <td>0</td>\n",
              "      <td>1</td>\n",
              "      <td>-1.236724</td>\n",
              "      <td>-0.362660</td>\n",
              "      <td>-0.959649</td>\n",
              "    </tr>\n",
              "    <tr>\n",
              "      <th>3</th>\n",
              "      <td>0</td>\n",
              "      <td>0</td>\n",
              "      <td>0</td>\n",
              "      <td>0</td>\n",
              "      <td>0</td>\n",
              "      <td>0</td>\n",
              "      <td>0</td>\n",
              "      <td>1</td>\n",
              "      <td>0</td>\n",
              "      <td>0</td>\n",
              "      <td>0</td>\n",
              "      <td>0</td>\n",
              "      <td>1</td>\n",
              "      <td>0</td>\n",
              "      <td>0</td>\n",
              "      <td>0</td>\n",
              "      <td>1</td>\n",
              "      <td>0</td>\n",
              "      <td>1</td>\n",
              "      <td>0</td>\n",
              "      <td>0</td>\n",
              "      <td>0</td>\n",
              "      <td>0</td>\n",
              "      <td>1</td>\n",
              "      <td>0</td>\n",
              "      <td>0</td>\n",
              "      <td>0</td>\n",
              "      <td>0</td>\n",
              "      <td>0.514251</td>\n",
              "      <td>-0.746535</td>\n",
              "      <td>-0.195248</td>\n",
              "    </tr>\n",
              "    <tr>\n",
              "      <th>4</th>\n",
              "      <td>1</td>\n",
              "      <td>0</td>\n",
              "      <td>0</td>\n",
              "      <td>0</td>\n",
              "      <td>1</td>\n",
              "      <td>1</td>\n",
              "      <td>1</td>\n",
              "      <td>0</td>\n",
              "      <td>0</td>\n",
              "      <td>1</td>\n",
              "      <td>0</td>\n",
              "      <td>0</td>\n",
              "      <td>0</td>\n",
              "      <td>0</td>\n",
              "      <td>0</td>\n",
              "      <td>0</td>\n",
              "      <td>0</td>\n",
              "      <td>0</td>\n",
              "      <td>0</td>\n",
              "      <td>0</td>\n",
              "      <td>0</td>\n",
              "      <td>0</td>\n",
              "      <td>0</td>\n",
              "      <td>0</td>\n",
              "      <td>0</td>\n",
              "      <td>0</td>\n",
              "      <td>1</td>\n",
              "      <td>0</td>\n",
              "      <td>-1.236724</td>\n",
              "      <td>0.197365</td>\n",
              "      <td>-0.940457</td>\n",
              "    </tr>\n",
              "  </tbody>\n",
              "</table>\n",
              "</div>"
            ],
            "text/plain": [
              "   gender  SeniorCitizen  Partner  ...    tenure  MonthlyCharges  TotalCharges\n",
              "0       1              0        1  ... -1.277445       -1.160323     -0.994194\n",
              "1       0              0        0  ...  0.066327       -0.259629     -0.173740\n",
              "2       0              0        0  ... -1.236724       -0.362660     -0.959649\n",
              "3       0              0        0  ...  0.514251       -0.746535     -0.195248\n",
              "4       1              0        0  ... -1.236724        0.197365     -0.940457\n",
              "\n",
              "[5 rows x 31 columns]"
            ]
          },
          "metadata": {
            "tags": []
          },
          "execution_count": 21
        }
      ]
    },
    {
      "cell_type": "code",
      "metadata": {
        "id": "02XhEFeRJI5X",
        "colab_type": "code",
        "outputId": "2dbc3a96-4849-475b-d073-afd61de06afa",
        "colab": {
          "base_uri": "https://localhost:8080/",
          "height": 34
        }
      },
      "source": [
        "data.shape"
      ],
      "execution_count": 0,
      "outputs": [
        {
          "output_type": "execute_result",
          "data": {
            "text/plain": [
              "(7043, 31)"
            ]
          },
          "metadata": {
            "tags": []
          },
          "execution_count": 22
        }
      ]
    },
    {
      "cell_type": "code",
      "metadata": {
        "id": "EkHGUkmcqVzA",
        "colab_type": "code",
        "outputId": "5a00a442-251e-447e-c8a8-8d4c2d75b5be",
        "colab": {
          "base_uri": "https://localhost:8080/",
          "height": 561
        }
      },
      "source": [
        "data.isna().sum()"
      ],
      "execution_count": 0,
      "outputs": [
        {
          "output_type": "execute_result",
          "data": {
            "text/plain": [
              "gender                                    0\n",
              "SeniorCitizen                             0\n",
              "Partner                                   0\n",
              "Dependents                                0\n",
              "PhoneService                              0\n",
              "PaperlessBilling                          0\n",
              "Churn                                     0\n",
              "MultipleLines_No phone service            0\n",
              "MultipleLines_Yes                         0\n",
              "InternetService_Fiber optic               0\n",
              "InternetService_No                        0\n",
              "OnlineSecurity_No internet service        0\n",
              "OnlineSecurity_Yes                        0\n",
              "OnlineBackup_No internet service          0\n",
              "OnlineBackup_Yes                          0\n",
              "DeviceProtection_No internet service      0\n",
              "DeviceProtection_Yes                      0\n",
              "TechSupport_No internet service           0\n",
              "TechSupport_Yes                           0\n",
              "StreamingTV_No internet service           0\n",
              "StreamingTV_Yes                           0\n",
              "StreamingMovies_No internet service       0\n",
              "StreamingMovies_Yes                       0\n",
              "Contract_One year                         0\n",
              "Contract_Two year                         0\n",
              "PaymentMethod_Credit card (automatic)     0\n",
              "PaymentMethod_Electronic check            0\n",
              "PaymentMethod_Mailed check                0\n",
              "tenure                                    0\n",
              "MonthlyCharges                            0\n",
              "TotalCharges                             11\n",
              "dtype: int64"
            ]
          },
          "metadata": {
            "tags": []
          },
          "execution_count": 23
        }
      ]
    },
    {
      "cell_type": "markdown",
      "metadata": {
        "id": "tnBvPYHFqiy0",
        "colab_type": "text"
      },
      "source": [
        "Let's remove the missing values:"
      ]
    },
    {
      "cell_type": "code",
      "metadata": {
        "id": "LKQruq-gqh81",
        "colab_type": "code",
        "colab": {}
      },
      "source": [
        "#Remove missing values\n",
        "data.dropna(axis=0, inplace=True)"
      ],
      "execution_count": 0,
      "outputs": []
    },
    {
      "cell_type": "markdown",
      "metadata": {
        "id": "jO54JNuCJO2I",
        "colab_type": "text"
      },
      "source": [
        "We have finished our data preprocessing. Let's jump into Modelling."
      ]
    },
    {
      "cell_type": "markdown",
      "metadata": {
        "id": "0cRQhu-cJYoh",
        "colab_type": "text"
      },
      "source": [
        "## <font color=#3876C2> Modelling</font> <a name=\"M5\"></a>"
      ]
    },
    {
      "cell_type": "markdown",
      "metadata": {
        "id": "Mu69j4b-eTrB",
        "colab_type": "text"
      },
      "source": [
        "We will build a classification model to predict whether or not a customer will churn. We will use differents algorithms in order to compare performance of the models: **Logistic Regression**, **Random Forest**, **Gradient Boosting** and **Artificial Neural Networks (ANN)**.              \n",
        "Let's begin our modelling process by spliting data into training/Test set."
      ]
    },
    {
      "cell_type": "code",
      "metadata": {
        "id": "jpvL7LTwJJ7l",
        "colab_type": "code",
        "colab": {}
      },
      "source": [
        "#Predictors\n",
        "X = data.drop('Churn', axis=1)\n",
        "\n",
        "#Target\n",
        "y = data['Churn']\n",
        "\n",
        "#Training/Test data (75%/25%)\n",
        "seed = 42\n",
        "X_train, X_test, y_train, y_test = train_test_split(X, y, random_state = seed)"
      ],
      "execution_count": 0,
      "outputs": []
    },
    {
      "cell_type": "markdown",
      "metadata": {
        "id": "aUC6MRfekCsv",
        "colab_type": "text"
      },
      "source": [
        "### <font color=#FEB229> Logistic Regression Classifier Model</font> <a name=\"M51\"></a>\n",
        "\n",
        "\n"
      ]
    },
    {
      "cell_type": "code",
      "metadata": {
        "id": "RRNSMbO6jrAX",
        "colab_type": "code",
        "colab": {}
      },
      "source": [
        "#Dictionary of hyperparameters\n",
        "param_grid = {'penalty':['l1', 'l2', 'elasticnet', None],\n",
        "              'C':np.linspace(0.1, 2, 10),\n",
        "              'fit_intercept':[True, False],\n",
        "              'max_iter':range(100, 500, 50),\n",
        "              'warm_start':[True, False]}\n",
        "\n",
        "#Grid Search Object\n",
        "grid_logreg_class = GridSearchCV(estimator = LogisticRegression(random_state=seed),\n",
        "                                 param_grid=param_grid,\n",
        "                                 scoring='accuracy',\n",
        "                                 n_jobs=4,\n",
        "                                 cv=10,\n",
        "                                 refit=True,\n",
        "                                 return_train_score=True)\n",
        "\n",
        "#Train the model\n",
        "logreg_model = grid_logreg_class.fit(X_train, y_train)"
      ],
      "execution_count": 0,
      "outputs": []
    },
    {
      "cell_type": "markdown",
      "metadata": {
        "id": "gCD4IcrKIMAH",
        "colab_type": "text"
      },
      "source": [
        "Since we set *refit* parameter to *True*, we can fit our grid search object that returns the best hyperparameters."
      ]
    },
    {
      "cell_type": "markdown",
      "metadata": {
        "id": "PgzuBJ28MnHi",
        "colab_type": "text"
      },
      "source": [
        "Now, let's see the best values of hyperparameters and the best score."
      ]
    },
    {
      "cell_type": "code",
      "metadata": {
        "id": "I0nvNJf1MLXG",
        "colab_type": "code",
        "outputId": "657dc459-efff-4595-b8a2-ba62ab049083",
        "colab": {
          "base_uri": "https://localhost:8080/",
          "height": 51
        }
      },
      "source": [
        "#Print best values of hyperparameters\n",
        "print(logreg_model.best_params_)\n",
        "\n",
        "#Evaluate the model\n",
        "print(f'Train accuracy: {logreg_model.best_score_:.2f}')"
      ],
      "execution_count": 0,
      "outputs": [
        {
          "output_type": "stream",
          "text": [
            "{'C': 1.788888888888889, 'fit_intercept': False, 'max_iter': 100, 'penalty': 'l2', 'warm_start': True}\n",
            "Train accuracy: 0.81\n"
          ],
          "name": "stdout"
        }
      ]
    },
    {
      "cell_type": "markdown",
      "metadata": {
        "id": "EaP_3UhniHgF",
        "colab_type": "text"
      },
      "source": [
        "The model performs well on training data. Let's check if our model is generalizable."
      ]
    },
    {
      "cell_type": "code",
      "metadata": {
        "id": "6wksvl5kNgzL",
        "colab_type": "code",
        "outputId": "30923eb2-6e4c-474f-8778-bb4e5082146c",
        "colab": {
          "base_uri": "https://localhost:8080/",
          "height": 85
        }
      },
      "source": [
        "#Using the best results\n",
        "lr_preds = logreg_model.best_estimator_.predict(X_test)\n",
        "print(f'Accuracy of the regression logistic model is {accuracy_score(y_test, lr_preds):.2f}')\n",
        "logreg_precision, logreg_recall, logreg_fscore, _ = precision_recall_fscore_support(y_test, lr_preds, average='binary')\n",
        "print(f'Precision: {logreg_precision:.2f}\\nRecall: {logreg_recall:.2f}\\nfscore: {logreg_fscore:.2f}')"
      ],
      "execution_count": 0,
      "outputs": [
        {
          "output_type": "stream",
          "text": [
            "Accuracy of the regression logistic model is 0.79\n",
            "Precision: 0.62\n",
            "Recall: 0.52\n",
            "fscore: 0.57\n"
          ],
          "name": "stdout"
        }
      ]
    },
    {
      "cell_type": "markdown",
      "metadata": {
        "id": "7_7nsrgIMC_Y",
        "colab_type": "text"
      },
      "source": [
        "With this accuracy on test data, we can say that our model perform well on the test set so it can be generalized.\n",
        "\n",
        "Even if our model is quite good, it is not easily interpretable with all these 30 predictors. Let's wrap a [Recursive Feature Eliminator](https://scikit-learn.org/stable/modules/generated/sklearn.feature_selection.RFE.html) (**RFE**) around our logistic regression classifier in order to see if it keeps the same performance if we reduce the number of predictors."
      ]
    },
    {
      "cell_type": "code",
      "metadata": {
        "id": "lmS_5hhZM12A",
        "colab_type": "code",
        "outputId": "c6f258b8-1b2d-4cee-fe29-a380906bfc85",
        "colab": {
          "base_uri": "https://localhost:8080/",
          "height": 459
        }
      },
      "source": [
        "#Logistic Regression RFE\n",
        "rfe_logreg_model = RFE(estimator=logreg_model.best_estimator_, verbose=1)\n",
        "rfe_logreg_model.fit(X_train, y_train)\n",
        "\n",
        "mask = rfe_logreg_model.support_\n",
        "\n",
        "# Apply the mask to the feature dataset X and print the result\n",
        "reduced_X = X.loc[:, mask]\n",
        "print(reduced_X.columns)\n",
        "\n",
        "#Predict on Test set\n",
        "rfe_logreg_model_preds = rfe_logreg_model.predict(X_test)\n",
        "\n",
        "#Evaluation of RFE Logistic Regression model\n",
        "print(f'Accuracy of the RFE regression logistic model is {accuracy_score(y_test, rfe_logreg_model_preds):.2f}')\n",
        "rfe_logreg_precision, rfe_logreg_recall, rfe_logreg_fscore, _ = precision_recall_fscore_support(y_test, rfe_logreg_model_preds, average='binary')\n",
        "print(f'Precision: {rfe_logreg_precision:.2f}\\nRecall: {rfe_logreg_recall:.2f}\\nfscore: {rfe_logreg_fscore:.2f}')"
      ],
      "execution_count": 0,
      "outputs": [
        {
          "output_type": "stream",
          "text": [
            "Fitting estimator with 30 features.\n",
            "Fitting estimator with 29 features.\n",
            "Fitting estimator with 28 features.\n",
            "Fitting estimator with 27 features.\n",
            "Fitting estimator with 26 features.\n",
            "Fitting estimator with 25 features.\n",
            "Fitting estimator with 24 features.\n",
            "Fitting estimator with 23 features.\n",
            "Fitting estimator with 22 features.\n",
            "Fitting estimator with 21 features.\n",
            "Fitting estimator with 20 features.\n",
            "Fitting estimator with 19 features.\n",
            "Fitting estimator with 18 features.\n",
            "Fitting estimator with 17 features.\n",
            "Fitting estimator with 16 features.\n",
            "Index(['PhoneService', 'PaperlessBilling', 'MultipleLines_No phone service',\n",
            "       'InternetService_Fiber optic', 'InternetService_No',\n",
            "       'OnlineSecurity_No internet service', 'OnlineSecurity_Yes',\n",
            "       'TechSupport_No internet service', 'TechSupport_Yes',\n",
            "       'StreamingMovies_Yes', 'Contract_One year', 'Contract_Two year',\n",
            "       'PaymentMethod_Electronic check', 'tenure', 'TotalCharges'],\n",
            "      dtype='object')\n",
            "Accuracy of the RFE regression logistic model is 0.80\n",
            "Precision: 0.63\n",
            "Recall: 0.53\n",
            "fscore: 0.58\n"
          ],
          "name": "stdout"
        }
      ]
    },
    {
      "cell_type": "markdown",
      "metadata": {
        "id": "JuPsTSv8PELZ",
        "colab_type": "text"
      },
      "source": [
        "The RFE reduced the number of predictors from 30 to 16 and the performance of this model is almost the same as the previous model. This shows not only the power of this function but also the importance of the selection of predictors to guard against overfitting. The models are thus easily interpretable.\n",
        "\n",
        "Now, let's go for Random Forest Classifier."
      ]
    },
    {
      "cell_type": "markdown",
      "metadata": {
        "id": "-itqzJXuPca0",
        "colab_type": "text"
      },
      "source": [
        "### <font color=#FEB229> Random Forest (RF) Classifier</font> <a name=\"M52\"></a>"
      ]
    },
    {
      "cell_type": "code",
      "metadata": {
        "id": "2o8UbTt_P5Zx",
        "colab_type": "code",
        "colab": {}
      },
      "source": [
        "#Import Random Forest\n",
        "from sklearn.ensemble import RandomForestClassifier\n",
        "\n",
        "#Dictionary of hyperparameters\n",
        "param_grid_rf = {'n_estimators':[100, 500],\n",
        "              'max_depth':[3, 5, 10],\n",
        "              'max_features':['auto', 'sqrt', 'log2', None]}\n",
        "\n",
        "#Grid Search Object\n",
        "grid_rf_class = GridSearchCV(estimator = RandomForestClassifier(random_state=seed),\n",
        "                                 param_grid=param_grid_rf,\n",
        "                                 scoring='accuracy',\n",
        "                                 n_jobs=4,\n",
        "                                 cv=10,\n",
        "                                 refit=True,\n",
        "                                 return_train_score=True)\n",
        "\n",
        "#Train the model\n",
        "rf_model = grid_rf_class.fit(X_train, y_train)"
      ],
      "execution_count": 0,
      "outputs": []
    },
    {
      "cell_type": "markdown",
      "metadata": {
        "id": "Rfgfva66rx7A",
        "colab_type": "text"
      },
      "source": [
        ""
      ]
    },
    {
      "cell_type": "markdown",
      "metadata": {
        "id": "Ct_Vc4yDQskR",
        "colab_type": "text"
      },
      "source": [
        "Let's see the best values of hyperparameters and the best score."
      ]
    },
    {
      "cell_type": "code",
      "metadata": {
        "id": "LT-KpnmPQ9it",
        "colab_type": "code",
        "outputId": "e71e041b-9f66-41e3-c214-a5fd32a65fda",
        "colab": {
          "base_uri": "https://localhost:8080/",
          "height": 51
        }
      },
      "source": [
        "#Print best values of hyperparameters\n",
        "print(rf_model.best_params_)\n",
        "\n",
        "#Evaluate the model\n",
        "print(f'Train accuracy: {rf_model.best_score_:.2f}')"
      ],
      "execution_count": 0,
      "outputs": [
        {
          "output_type": "stream",
          "text": [
            "{'max_depth': 10, 'max_features': 'auto', 'n_estimators': 500}\n",
            "Train accuracy: 0.80\n"
          ],
          "name": "stdout"
        }
      ]
    },
    {
      "cell_type": "markdown",
      "metadata": {
        "id": "htcPDtNBsMoS",
        "colab_type": "text"
      },
      "source": [
        "The train accuracy is the same as for the logistic regression model. Let's compute some metrics on the test set."
      ]
    },
    {
      "cell_type": "code",
      "metadata": {
        "id": "1ZV6c-FjT2Gn",
        "colab_type": "code",
        "outputId": "5f247224-ddfa-4417-9ce5-4d5dc7df58e3",
        "colab": {
          "base_uri": "https://localhost:8080/",
          "height": 85
        }
      },
      "source": [
        "#Using the best results\n",
        "rf_preds = rf_model.best_estimator_.predict(X_test)\n",
        "print(f'Accuracy of the Random Forest model is {accuracy_score(y_test, rf_preds):.2f}')\n",
        "rf_precision, rf_recall, rf_fscore, _ = precision_recall_fscore_support(y_test, rf_preds, average='binary')\n",
        "print(f'Precision: {rf_precision:.2f}\\nRecall: {rf_recall:.2f}\\nfscore: {rf_fscore:.2f}')"
      ],
      "execution_count": 0,
      "outputs": [
        {
          "output_type": "stream",
          "text": [
            "Accuracy of the Random Forest model is 0.79\n",
            "Precision: 0.63\n",
            "Recall: 0.48\n",
            "fscore: 0.54\n"
          ],
          "name": "stdout"
        }
      ]
    },
    {
      "cell_type": "markdown",
      "metadata": {
        "id": "hy--zRi7aoIL",
        "colab_type": "text"
      },
      "source": [
        "Compared to the values of the logistic regression model, the random forest model seems to be less efficient.\n",
        "\n",
        "Let's make an RFE."
      ]
    },
    {
      "cell_type": "code",
      "metadata": {
        "id": "J3ybfRKuXaDI",
        "colab_type": "code",
        "outputId": "d4ba1fc2-1cba-4523-efdf-4943c0d2e352",
        "colab": {
          "base_uri": "https://localhost:8080/",
          "height": 459
        }
      },
      "source": [
        "#Random Forest RFE\n",
        "rfe_forest_model = RFE(estimator=rf_model.best_estimator_, verbose=1)\n",
        "rfe_forest_model.fit(X_train, y_train)\n",
        "\n",
        "mask_rf = rfe_forest_model.support_\n",
        "\n",
        "# Apply the mask to the feature dataset X and print the result\n",
        "rf_reduced_X = X.loc[:, mask_rf]\n",
        "print(rf_reduced_X.columns)\n",
        "\n",
        "#Predict on Test set\n",
        "rfe_forest_model_preds = rfe_forest_model.predict(X_test)\n",
        "\n",
        "#Evaluation of RFE Random Forest model\n",
        "print(f'Accuracy of the RFE Random Forest model is {accuracy_score(y_test, rfe_forest_model_preds):.2f}')\n",
        "rfe_forest_precision, rfe_forest_recall, rfe_forest_fscore, _ = precision_recall_fscore_support(y_test, rfe_forest_model_preds, average='binary')\n",
        "print(f'Precision: {rfe_forest_precision:.2f}\\nRecall: {rfe_forest_recall:.2f}\\nfscore: {rfe_forest_fscore:.2f}')"
      ],
      "execution_count": 0,
      "outputs": [
        {
          "output_type": "stream",
          "text": [
            "Fitting estimator with 30 features.\n",
            "Fitting estimator with 29 features.\n",
            "Fitting estimator with 28 features.\n",
            "Fitting estimator with 27 features.\n",
            "Fitting estimator with 26 features.\n",
            "Fitting estimator with 25 features.\n",
            "Fitting estimator with 24 features.\n",
            "Fitting estimator with 23 features.\n",
            "Fitting estimator with 22 features.\n",
            "Fitting estimator with 21 features.\n",
            "Fitting estimator with 20 features.\n",
            "Fitting estimator with 19 features.\n",
            "Fitting estimator with 18 features.\n",
            "Fitting estimator with 17 features.\n",
            "Fitting estimator with 16 features.\n",
            "Index(['gender', 'Dependents', 'PaperlessBilling', 'MultipleLines_Yes',\n",
            "       'InternetService_Fiber optic', 'OnlineSecurity_No internet service',\n",
            "       'OnlineSecurity_Yes', 'TechSupport_Yes',\n",
            "       'StreamingMovies_No internet service', 'Contract_One year',\n",
            "       'Contract_Two year', 'PaymentMethod_Electronic check', 'tenure',\n",
            "       'MonthlyCharges', 'TotalCharges'],\n",
            "      dtype='object')\n",
            "Accuracy of the RFE Random Forest model is 0.80\n",
            "Precision: 0.65\n",
            "Recall: 0.49\n",
            "fscore: 0.56\n"
          ],
          "name": "stdout"
        }
      ]
    },
    {
      "cell_type": "markdown",
      "metadata": {
        "id": "fW-5ay7Tt2B7",
        "colab_type": "text"
      },
      "source": [
        "In view of these values, we will retain this random forest model obtained by RFE.\n",
        "\n",
        "it is time to start building ANN models for customer churn predictions. So let's move onto the next section for ANN (Artificial Neural Network) modeling!"
      ]
    },
    {
      "cell_type": "markdown",
      "metadata": {
        "id": "FDMWXyqqbyLs",
        "colab_type": "text"
      },
      "source": [
        "### <font color=#FEB229> Artificial Neural Network</font> <a name=\"M53\"></a>"
      ]
    },
    {
      "cell_type": "markdown",
      "metadata": {
        "id": "O8gtx7cpxeHZ",
        "colab_type": "text"
      },
      "source": [
        "First, we will create a **Sequential model** here, which is the type of model where the layers are stacked linearly. The first layer is an input layer, where *input_dim* is simply the number of features or columns in the sample set and the number of output units is 16. We are using the **relu** activation function for this input layer. Then, in the hidden layer, the number of output units is 8 and the activation function to be used is relu. Lastly, the output layer has one output unit, which is the probability of customer churn, and we use the **sigmoid** activation function in this layer. \n",
        "\n",
        "(*We can experiment with different numbers of output units and activation functions*).\n",
        "\n",
        "The final step to build a neural network model with the **keras** package is to compile this model. \n",
        "\n",
        "Let's go!"
      ]
    },
    {
      "cell_type": "code",
      "metadata": {
        "id": "2EwW_7Icw7bt",
        "colab_type": "code",
        "outputId": "1a5583b5-fb44-460a-bdb4-67cfec3750ef",
        "colab": {
          "base_uri": "https://localhost:8080/",
          "height": 258
        }
      },
      "source": [
        "ann_model = Sequential()\n",
        "ann_model.add(Dense(16, input_dim=X.shape[1], activation='relu'))\n",
        "ann_model.add(Dense(8, activation='relu'))\n",
        "ann_model.add(Dense(1, activation='sigmoid'))\n",
        "ann_model.compile(loss='binary_crossentropy', optimizer='adam', metrics=['accuracy'])"
      ],
      "execution_count": 0,
      "outputs": [
        {
          "output_type": "stream",
          "text": [
            "WARNING:tensorflow:From /usr/local/lib/python3.6/dist-packages/keras/backend/tensorflow_backend.py:66: The name tf.get_default_graph is deprecated. Please use tf.compat.v1.get_default_graph instead.\n",
            "\n",
            "WARNING:tensorflow:From /usr/local/lib/python3.6/dist-packages/keras/backend/tensorflow_backend.py:541: The name tf.placeholder is deprecated. Please use tf.compat.v1.placeholder instead.\n",
            "\n",
            "WARNING:tensorflow:From /usr/local/lib/python3.6/dist-packages/keras/backend/tensorflow_backend.py:4432: The name tf.random_uniform is deprecated. Please use tf.random.uniform instead.\n",
            "\n",
            "WARNING:tensorflow:From /usr/local/lib/python3.6/dist-packages/keras/optimizers.py:793: The name tf.train.Optimizer is deprecated. Please use tf.compat.v1.train.Optimizer instead.\n",
            "\n",
            "WARNING:tensorflow:From /usr/local/lib/python3.6/dist-packages/keras/backend/tensorflow_backend.py:3657: The name tf.log is deprecated. Please use tf.math.log instead.\n",
            "\n",
            "WARNING:tensorflow:From /tensorflow-1.15.0/python3.6/tensorflow_core/python/ops/nn_impl.py:183: where (from tensorflow.python.ops.array_ops) is deprecated and will be removed in a future version.\n",
            "Instructions for updating:\n",
            "Use tf.where in 2.0, which has the same broadcast rule as np.where\n"
          ],
          "name": "stdout"
        }
      ]
    },
    {
      "cell_type": "markdown",
      "metadata": {
        "id": "HzYt9cKGzC_c",
        "colab_type": "text"
      },
      "source": [
        "Now, let's train the model."
      ]
    },
    {
      "cell_type": "code",
      "metadata": {
        "id": "zSiE5kkQy0ar",
        "colab_type": "code",
        "outputId": "3c4088af-c26c-4a9c-92e4-2d4b0f1c31f5",
        "colab": {
          "base_uri": "https://localhost:8080/",
          "height": 326
        }
      },
      "source": [
        "ann_model.fit(X_train, y_train, epochs=50, batch_size=100, verbose=0)"
      ],
      "execution_count": 0,
      "outputs": [
        {
          "output_type": "stream",
          "text": [
            "WARNING:tensorflow:From /usr/local/lib/python3.6/dist-packages/keras/backend/tensorflow_backend.py:1033: The name tf.assign_add is deprecated. Please use tf.compat.v1.assign_add instead.\n",
            "\n",
            "WARNING:tensorflow:From /usr/local/lib/python3.6/dist-packages/keras/backend/tensorflow_backend.py:1020: The name tf.assign is deprecated. Please use tf.compat.v1.assign instead.\n",
            "\n",
            "WARNING:tensorflow:From /usr/local/lib/python3.6/dist-packages/keras/backend/tensorflow_backend.py:3005: The name tf.Session is deprecated. Please use tf.compat.v1.Session instead.\n",
            "\n",
            "WARNING:tensorflow:From /usr/local/lib/python3.6/dist-packages/keras/backend/tensorflow_backend.py:190: The name tf.get_default_session is deprecated. Please use tf.compat.v1.get_default_session instead.\n",
            "\n",
            "WARNING:tensorflow:From /usr/local/lib/python3.6/dist-packages/keras/backend/tensorflow_backend.py:197: The name tf.ConfigProto is deprecated. Please use tf.compat.v1.ConfigProto instead.\n",
            "\n",
            "WARNING:tensorflow:From /usr/local/lib/python3.6/dist-packages/keras/backend/tensorflow_backend.py:207: The name tf.global_variables is deprecated. Please use tf.compat.v1.global_variables instead.\n",
            "\n",
            "WARNING:tensorflow:From /usr/local/lib/python3.6/dist-packages/keras/backend/tensorflow_backend.py:216: The name tf.is_variable_initialized is deprecated. Please use tf.compat.v1.is_variable_initialized instead.\n",
            "\n",
            "WARNING:tensorflow:From /usr/local/lib/python3.6/dist-packages/keras/backend/tensorflow_backend.py:223: The name tf.variables_initializer is deprecated. Please use tf.compat.v1.variables_initializer instead.\n",
            "\n"
          ],
          "name": "stdout"
        },
        {
          "output_type": "execute_result",
          "data": {
            "text/plain": [
              "<keras.callbacks.History at 0x7f0395c60668>"
            ]
          },
          "metadata": {
            "tags": []
          },
          "execution_count": 35
        }
      ]
    },
    {
      "cell_type": "markdown",
      "metadata": {
        "id": "8xztLuvhzr5u",
        "colab_type": "text"
      },
      "source": [
        "Now that we have built our first neural network model, let's evaluate its performance."
      ]
    },
    {
      "cell_type": "code",
      "metadata": {
        "id": "6s_wfL4qzOKT",
        "colab_type": "code",
        "outputId": "55c79dd0-8ee5-4be6-9574-9d8c74b188b7",
        "colab": {
          "base_uri": "https://localhost:8080/",
          "height": 102
        }
      },
      "source": [
        "in_sample_preds = [round(x[0]) for x in ann_model.predict(X_train)]\n",
        "out_sample_preds = [round(x[0]) for x in ann_model.predict(X_test)]\n",
        "\n",
        "# Accuracy\n",
        "print('In-Sample Accuracy: %0.2f' % accuracy_score(y_train, in_sample_preds))\n",
        "print('Out-of-Sample Accuracy: %0.2f' % accuracy_score(y_test, out_sample_preds))\n",
        "\n",
        "# Precision\n",
        "print('Out-of-Sample Precision: %0.2f' % precision_score(y_test, out_sample_preds))\n",
        "\n",
        "# Recall\n",
        "print('Out-of-Sample Recall: %0.2f' % recall_score(y_test, out_sample_preds))\n",
        "\n",
        "# fscore\n",
        "print('Out-of-Sample fscore: %0.2f' % f1_score(y_test, out_sample_preds))"
      ],
      "execution_count": 0,
      "outputs": [
        {
          "output_type": "stream",
          "text": [
            "In-Sample Accuracy: 0.81\n",
            "Out-of-Sample Accuracy: 0.79\n",
            "Out-of-Sample Precision: 0.79\n",
            "Out-of-Sample Recall: 0.53\n",
            "Out-of-Sample fscore: 0.57\n"
          ],
          "name": "stdout"
        }
      ]
    },
    {
      "cell_type": "markdown",
      "metadata": {
        "id": "q2nWiN_g2QRL",
        "colab_type": "text"
      },
      "source": [
        "As you can see from this output, the accuracy of predicting whether a customer will churn or not in the test set is about 79%, suggesting the model is correct roughly about 80% of the time. The out-of-sample precision suggests that the model is correct about 62% of the time that it predicts that the customer is going to churn, and the out-of-sample recall suggests that the model captures roughly 52% of the churn cases. \n",
        "\n",
        "Let's increase the number of epochs and the number of hidden layers in order to try to improve the performance of the model.\n",
        "\n"
      ]
    },
    {
      "cell_type": "markdown",
      "metadata": {
        "id": "gj1vp8Ib3yxJ",
        "colab_type": "text"
      },
      "source": [
        "### <font color=#FEB229> Deep Learning</font> <a name=\"M54\"></a>"
      ]
    },
    {
      "cell_type": "code",
      "metadata": {
        "id": "VqOxaIqI0l6V",
        "colab_type": "code",
        "outputId": "287f9a84-b007-4a51-9d85-e4bacd3de709",
        "colab": {
          "base_uri": "https://localhost:8080/",
          "height": 34
        }
      },
      "source": [
        "dl_model = Sequential()\n",
        "dl_model.add(Dense(16, input_dim=X.shape[1], activation='relu'))\n",
        "dl_model.add(Dense(10, activation='relu'))\n",
        "dl_model.add(Dense(10, activation= \"relu\"))\n",
        "dl_model.add(Dense(10, activation= \"relu\"))\n",
        "dl_model.add(Dense(1, activation='sigmoid'))\n",
        "dl_model.compile(loss='binary_crossentropy', optimizer='adam', metrics=['accuracy'])\n",
        "\n",
        "#Train the model\n",
        "dl_model.fit(X_train, y_train, epochs=100, batch_size=100, verbose=0)"
      ],
      "execution_count": 0,
      "outputs": [
        {
          "output_type": "execute_result",
          "data": {
            "text/plain": [
              "<keras.callbacks.History at 0x7f0394baacc0>"
            ]
          },
          "metadata": {
            "tags": []
          },
          "execution_count": 37
        }
      ]
    },
    {
      "cell_type": "code",
      "metadata": {
        "id": "bnATZ10k43Se",
        "colab_type": "code",
        "outputId": "aab228e5-2453-413d-df7f-ef84ab8e5510",
        "colab": {
          "base_uri": "https://localhost:8080/",
          "height": 102
        }
      },
      "source": [
        "#Evaluate the model\n",
        "in_sample_predictions = [round(x[0]) for x in dl_model.predict(X_train)]\n",
        "out_sample_predictions = [round(x[0]) for x in dl_model.predict(X_test)]\n",
        "\n",
        "# Accuracy\n",
        "print('In-Sample Accuracy: %0.2f' % accuracy_score(y_train, in_sample_predictions))\n",
        "print('Out-of-Sample Accuracy: %0.2f' % accuracy_score(y_test, out_sample_predictions))\n",
        "\n",
        "# Precision\n",
        "print('Out-of-Sample Precision: %0.2f' % precision_score(y_test, out_sample_predictions))\n",
        "\n",
        "# Recall\n",
        "print('Out-of-Sample Recall: %0.2f' % recall_score(y_test, out_sample_predictions))\n",
        "\n",
        "# fscore\n",
        "print('Out-of-Sample fscore: %0.2f' % f1_score(y_test, out_sample_predictions))"
      ],
      "execution_count": 0,
      "outputs": [
        {
          "output_type": "stream",
          "text": [
            "In-Sample Accuracy: 0.83\n",
            "Out-of-Sample Accuracy: 0.78\n",
            "Out-of-Sample Precision: 0.61\n",
            "Out-of-Sample Recall: 0.45\n",
            "Out-of-Sample fscore: 0.52\n"
          ],
          "name": "stdout"
        }
      ]
    },
    {
      "cell_type": "markdown",
      "metadata": {
        "id": "C9b-kC2l5kHd",
        "colab_type": "text"
      },
      "source": [
        "In view of these values, we will retain the ANN model because the deep learning dont't increase the performance of the model."
      ]
    },
    {
      "cell_type": "markdown",
      "metadata": {
        "id": "bvWthAnx6EK6",
        "colab_type": "text"
      },
      "source": [
        "Let's visualize the performance of ANN model To visualize by using ROC curve."
      ]
    },
    {
      "cell_type": "code",
      "metadata": {
        "id": "EFIIbgQN6Mod",
        "colab_type": "code",
        "outputId": "1835f6b6-8466-4392-ff3a-3d86c2daf0da",
        "colab": {
          "base_uri": "https://localhost:8080/",
          "height": 492
        }
      },
      "source": [
        "in_sample_fpr, in_sample_tpr, in_sample_thresholds = roc_curve(y_train, in_sample_preds)\n",
        "out_sample_fpr, out_sample_tpr, out_sample_thresholds = roc_curve(y_test, out_sample_preds)\n",
        "\n",
        "in_sample_roc_auc = auc(in_sample_fpr, in_sample_tpr)\n",
        "out_sample_roc_auc = auc(out_sample_fpr, out_sample_tpr)\n",
        "\n",
        "print('In-Sample AUC: %0.2f' % in_sample_roc_auc)\n",
        "print('Out-Sample AUC: %0.2f' % out_sample_roc_auc)\n",
        "\n",
        "#ROC curve\n",
        "plt.figure(figsize=(10,7))\n",
        "\n",
        "plt.plot(\n",
        "    out_sample_fpr, out_sample_tpr, color='darkorange', label='Out-Sample ROC curve (area = %0.2f)' % in_sample_roc_auc\n",
        ")\n",
        "plt.plot(\n",
        "    in_sample_fpr, in_sample_tpr, color='navy', label='In-Sample ROC curve (area = %0.2f)' % out_sample_roc_auc\n",
        ")\n",
        "plt.plot([0, 1], [0, 1], color='gray', lw=1, linestyle='--')\n",
        "plt.grid()\n",
        "plt.xlim([0.0, 1.0])\n",
        "plt.ylim([0.0, 1.05])\n",
        "plt.xlabel('False Positive Rate')\n",
        "plt.ylabel('True Positive Rate')\n",
        "plt.title('ROC Curve')\n",
        "plt.legend(loc=\"lower right\")\n",
        "\n",
        "plt.show()"
      ],
      "execution_count": 0,
      "outputs": [
        {
          "output_type": "stream",
          "text": [
            "In-Sample AUC: 0.74\n",
            "Out-Sample AUC: 0.71\n"
          ],
          "name": "stdout"
        },
        {
          "output_type": "display_data",
          "data": {
            "image/png": "[encoded data removed]",
            "text/plain": [
              "<Figure size 720x504 with 1 Axes>"
            ]
          },
          "metadata": {
            "tags": []
          }
        }
      ]
    },
    {
      "cell_type": "markdown",
      "metadata": {
        "id": "SBy8cbMc7DGJ",
        "colab_type": "text"
      },
      "source": [
        "Along with the accuracy, precision, and recall measures that we looked at previously, the AUC and the ROC curve also suggest that the model captures and predicts those customers at churn risk pretty well. As you can see from these evaluation outputs, it is better to use the output of this model for identifying the customers who are likely to churn than simply guessing who they will be. By focusing on those customers with high churn probabilities from this model in your marketing strategies, you can try to retain those customers at churn risks in a more cost-effective way."
      ]
    },
    {
      "cell_type": "markdown",
      "metadata": {
        "id": "fUpIJIHm5y25",
        "colab_type": "text"
      },
      "source": [
        "## <font color=#3876C2> Conclusion</font> <a name=\"M6\"></a>"
      ]
    },
    {
      "cell_type": "markdown",
      "metadata": {
        "id": "z_Y-bYRO8M6H",
        "colab_type": "text"
      },
      "source": [
        "Here is the summary table of the performances of the different models:"
      ]
    },
    {
      "cell_type": "code",
      "metadata": {
        "id": "KMGzZ8s_5QIQ",
        "colab_type": "code",
        "colab": {}
      },
      "source": [
        "models = ['Logistic Regression', 'RFE Logistic Regression', 'Random Forest', 'RFE Random Forest', 'Artificial Neural Network', 'Deep Learning']\n",
        "Train_Accuracy = [round(logreg_model.best_score_, 2),\n",
        "                  round(rfe_logreg_model.score(X_train, y_train), 2),\n",
        "                  round(rf_model.best_score_, 2),\n",
        "                  round(rfe_forest_model.score(X_train, y_train), 2),\n",
        "                  round(accuracy_score(y_train, in_sample_preds), 2),\n",
        "                  round(accuracy_score(y_train, in_sample_predictions), 2)]\n",
        "\n",
        "Test_Accuracy = [round(accuracy_score(y_test, lr_preds), 2),\n",
        "                 round(accuracy_score(y_test, rfe_logreg_model_preds), 2),\n",
        "                 round(accuracy_score(y_test, rf_preds), 2),\n",
        "                 round(accuracy_score(y_test, rfe_forest_model_preds), 2),\n",
        "                 round(accuracy_score(y_test, out_sample_preds), 2),\n",
        "                 round(accuracy_score(y_test, out_sample_predictions), 2)]\n",
        "\n",
        "Precision = [round(precision_score(y_test, lr_preds), 2),\n",
        "                 round(precision_score(y_test, rfe_logreg_model_preds), 2),\n",
        "                 round(precision_score(y_test, rf_preds), 2),\n",
        "                 round(precision_score(y_test, rfe_forest_model_preds), 2),\n",
        "                 round(precision_score(y_test, out_sample_preds), 2),\n",
        "                 round(precision_score(y_test, out_sample_predictions), 2)]\n",
        "\n",
        "Recall = [round(recall_score(y_test, lr_preds), 2),\n",
        "                 round(recall_score(y_test, rfe_logreg_model_preds), 2),\n",
        "                 round(recall_score(y_test, rf_preds), 2),\n",
        "                 round(recall_score(y_test, rfe_forest_model_preds), 2),\n",
        "                 round(recall_score(y_test, out_sample_preds), 2),\n",
        "                 round(recall_score(y_test, out_sample_predictions), 2)]\n",
        "\n",
        "Fscore = [round(f1_score(y_test, lr_preds), 2),\n",
        "                 round(f1_score(y_test, rfe_logreg_model_preds), 2),\n",
        "                 round(f1_score(y_test, rf_preds), 2),\n",
        "                 round(f1_score(y_test, rfe_forest_model_preds), 2),\n",
        "                 round(f1_score(y_test, out_sample_preds), 2),\n",
        "                 round(f1_score(y_test, out_sample_predictions), 2)]"
      ],
      "execution_count": 0,
      "outputs": []
    },
    {
      "cell_type": "code",
      "metadata": {
        "id": "9AyKvc30_Blb",
        "colab_type": "code",
        "outputId": "50af259a-2371-4c4a-abf4-a526e8622fb5",
        "colab": {
          "base_uri": "https://localhost:8080/",
          "height": 235
        }
      },
      "source": [
        "#Summary\n",
        "models_performances = pd.DataFrame({\n",
        "                                    'Train Accuracy':Train_Accuracy,\n",
        "                                    'Test Accuracy':Test_Accuracy,\n",
        "                                    'Precision':Precision,\n",
        "                                    'Recall':Recall,\n",
        "                                    'Fscore':Fscore}, \n",
        "                                   index=models)\n",
        "\n",
        "models_performances"
      ],
      "execution_count": 0,
      "outputs": [
        {
          "output_type": "execute_result",
          "data": {
            "text/html": [
              "<div>\n",
              "<style scoped>\n",
              "    .dataframe tbody tr th:only-of-type {\n",
              "        vertical-align: middle;\n",
              "    }\n",
              "\n",
              "    .dataframe tbody tr th {\n",
              "        vertical-align: top;\n",
              "    }\n",
              "\n",
              "    .dataframe thead th {\n",
              "        text-align: right;\n",
              "    }\n",
              "</style>\n",
              "<table border=\"1\" class=\"dataframe\">\n",
              "  <thead>\n",
              "    <tr style=\"text-align: right;\">\n",
              "      <th></th>\n",
              "      <th>Train Accuracy</th>\n",
              "      <th>Test Accuracy</th>\n",
              "      <th>Precision</th>\n",
              "      <th>Recall</th>\n",
              "      <th>Fscore</th>\n",
              "    </tr>\n",
              "  </thead>\n",
              "  <tbody>\n",
              "    <tr>\n",
              "      <th>Logistic Regression</th>\n",
              "      <td>0.81</td>\n",
              "      <td>0.79</td>\n",
              "      <td>0.62</td>\n",
              "      <td>0.52</td>\n",
              "      <td>0.57</td>\n",
              "    </tr>\n",
              "    <tr>\n",
              "      <th>RFE Logistic Regression</th>\n",
              "      <td>0.80</td>\n",
              "      <td>0.80</td>\n",
              "      <td>0.63</td>\n",
              "      <td>0.53</td>\n",
              "      <td>0.58</td>\n",
              "    </tr>\n",
              "    <tr>\n",
              "      <th>Random Forest</th>\n",
              "      <td>0.80</td>\n",
              "      <td>0.79</td>\n",
              "      <td>0.63</td>\n",
              "      <td>0.48</td>\n",
              "      <td>0.54</td>\n",
              "    </tr>\n",
              "    <tr>\n",
              "      <th>RFE Random Forest</th>\n",
              "      <td>0.87</td>\n",
              "      <td>0.80</td>\n",
              "      <td>0.65</td>\n",
              "      <td>0.49</td>\n",
              "      <td>0.56</td>\n",
              "    </tr>\n",
              "    <tr>\n",
              "      <th>Artificial Neural Network</th>\n",
              "      <td>0.81</td>\n",
              "      <td>0.79</td>\n",
              "      <td>0.62</td>\n",
              "      <td>0.53</td>\n",
              "      <td>0.57</td>\n",
              "    </tr>\n",
              "    <tr>\n",
              "      <th>Deep Learning</th>\n",
              "      <td>0.83</td>\n",
              "      <td>0.78</td>\n",
              "      <td>0.61</td>\n",
              "      <td>0.45</td>\n",
              "      <td>0.52</td>\n",
              "    </tr>\n",
              "  </tbody>\n",
              "</table>\n",
              "</div>"
            ],
            "text/plain": [
              "                           Train Accuracy  Test Accuracy  ...  Recall  Fscore\n",
              "Logistic Regression                  0.81           0.79  ...    0.52    0.57\n",
              "RFE Logistic Regression              0.80           0.80  ...    0.53    0.58\n",
              "Random Forest                        0.80           0.79  ...    0.48    0.54\n",
              "RFE Random Forest                    0.87           0.80  ...    0.49    0.56\n",
              "Artificial Neural Network            0.81           0.79  ...    0.53    0.57\n",
              "Deep Learning                        0.83           0.78  ...    0.45    0.52\n",
              "\n",
              "[6 rows x 5 columns]"
            ]
          },
          "metadata": {
            "tags": []
          },
          "execution_count": 41
        }
      ]
    },
    {
      "cell_type": "markdown",
      "metadata": {
        "id": "XsDhCF6-E47b",
        "colab_type": "text"
      },
      "source": [
        "Great Job!\n",
        "\n",
        "We have six (6) models to identify the customers who are at risk of churning. We have practically the same performance but we have to choose only one."
      ]
    }
  ]
}